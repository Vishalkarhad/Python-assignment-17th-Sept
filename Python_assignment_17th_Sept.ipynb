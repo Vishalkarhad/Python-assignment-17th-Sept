{
  "nbformat": 4,
  "nbformat_minor": 0,
  "metadata": {
    "colab": {
      "provenance": []
    },
    "kernelspec": {
      "name": "python3",
      "display_name": "Python 3"
    },
    "language_info": {
      "name": "python"
    }
  },
  "cells": [
    {
      "cell_type": "markdown",
      "source": [
        " **PYTHON ASSIGNMENT**"
      ],
      "metadata": {
        "id": "tgxwDUilNp54"
      }
    },
    {
      "cell_type": "markdown",
      "source": [
        "# **For Loop :-**\n",
        "1. Write a Python program to print numbers from 1 to 10 using a for loop.\n"
      ],
      "metadata": {
        "id": "UXqlCJUQN7G_"
      }
    },
    {
      "cell_type": "code",
      "source": [
        "for i in range(1,11):\n",
        "  print(i,end=\"\")"
      ],
      "metadata": {
        "colab": {
          "base_uri": "https://localhost:8080/"
        },
        "id": "0FiSkomZOAmk",
        "outputId": "94bc6c05-430d-474d-b9d1-02b424ced37a"
      },
      "execution_count": null,
      "outputs": [
        {
          "output_type": "stream",
          "name": "stdout",
          "text": [
            "12345678910"
          ]
        }
      ]
    },
    {
      "cell_type": "markdown",
      "source": [
        "2. Explain the difference between a for loop and a while loop in Python.\n"
      ],
      "metadata": {
        "id": "sHyEQBVbOhTH"
      }
    },
    {
      "cell_type": "markdown",
      "source": [
        "**ANSWER:--** The for loop is used for iterating over a sequence (that is either a list, a tuple, a dictionary, a set, or a string).\n",
        "The loop iterates over each element in the iterable, and the variable takes on each value in the sequence one at a time.\n",
        "\n",
        "The while loop is used when you want to repeat a block of code as long as a certain condition is true.\n",
        "It repeatedly executes the code block as long as the specified condition is true."
      ],
      "metadata": {
        "id": "Cb2_-GS-Otn_"
      }
    },
    {
      "cell_type": "markdown",
      "source": [
        "3. Write a Python program to calculate the sum of all numbers from 1 to 100 using a for loop.\n"
      ],
      "metadata": {
        "id": "35Fy9lV4P5UA"
      }
    },
    {
      "cell_type": "code",
      "source": [
        "result=0\n",
        "for i in range(1,101):\n",
        "  result=result+i\n",
        "print(\"the summ of all Number from 1 to 100 :\",result)"
      ],
      "metadata": {
        "colab": {
          "base_uri": "https://localhost:8080/"
        },
        "id": "0hIt6RGNP6TG",
        "outputId": "efabe219-9928-411f-819c-237d890c2f13"
      },
      "execution_count": null,
      "outputs": [
        {
          "output_type": "stream",
          "name": "stdout",
          "text": [
            "the summ of all Number from 1 to 100 : 5050\n"
          ]
        }
      ]
    },
    {
      "cell_type": "markdown",
      "source": [
        "4. How do you iterate through a list using a for loop in Python?"
      ],
      "metadata": {
        "id": "RmrpIf2MQrpR"
      }
    },
    {
      "cell_type": "markdown",
      "source": [
        "In Python, a for loop is a control flow statement used for iterating over a sequence of elements. When it comes to lists, which are ordered collections of items, the for loop is particularly useful. Here's a step-by-step explanation:\n",
        "\n",
        "**Initialization:** The for loop starts by initializing a variable (often referred to as the loop variable) to the first item in the list.\n",
        "\n",
        "**Iteration:** The loop then executes the code block inside its body for the current value of the loop variable. This code block represents the set of instructions you want to perform on each item in the list.\n",
        "\n",
        "**Updating the Loop Variable:** After completing the code block, the loop variable is updated to the next item in the list.\n",
        "\n",
        "Repeat: Steps 2 and 3 are repeated until the loop variable has taken on each item in the list. Once the end of the list is reached, the loop exits."
      ],
      "metadata": {
        "id": "uZWgRiEERPhA"
      }
    },
    {
      "cell_type": "markdown",
      "source": [
        "5. Write a Python program to find the product of all elements in a list using a for loop."
      ],
      "metadata": {
        "id": "sbFhuz27RppP"
      }
    },
    {
      "cell_type": "code",
      "source": [
        "list1=[1,2,3,4,5,6,7]\n",
        "product=1\n",
        "for num in list1:\n",
        "  product=product*num\n",
        "print(\"Product of :\",list1 ,\"all element is :\",product)\n"
      ],
      "metadata": {
        "colab": {
          "base_uri": "https://localhost:8080/"
        },
        "id": "kcD3vYhsRrSP",
        "outputId": "47aa1112-9434-4d51-8538-6d5dd54bb7bb"
      },
      "execution_count": null,
      "outputs": [
        {
          "output_type": "stream",
          "name": "stdout",
          "text": [
            "Product of : [1, 2, 3, 4, 5, 6, 7] all element is : 5040\n"
          ]
        }
      ]
    },
    {
      "cell_type": "markdown",
      "source": [
        "6. Create a Python program that prints all even numbers from 1 to 20 using a for loop."
      ],
      "metadata": {
        "id": "w5mY9sB-TYUI"
      }
    },
    {
      "cell_type": "code",
      "source": [
        "n=int(input(\"enter a number to know even number :\"))\n",
        "print(\"Here are the even number between \",n)\n",
        "for even_num in range(1,n+1):\n",
        "  if even_num%2==0:\n",
        "    print(even_num)"
      ],
      "metadata": {
        "colab": {
          "base_uri": "https://localhost:8080/"
        },
        "id": "QVP1HCtETaiu",
        "outputId": "d45cd558-0e94-4be3-99a1-70da514abd8c"
      },
      "execution_count": null,
      "outputs": [
        {
          "output_type": "stream",
          "name": "stdout",
          "text": [
            "enter a number to know even number :20\n",
            "Here are the even number between  20\n",
            "2\n",
            "4\n",
            "6\n",
            "8\n",
            "10\n",
            "12\n",
            "14\n",
            "16\n",
            "18\n",
            "20\n"
          ]
        }
      ]
    },
    {
      "cell_type": "markdown",
      "source": [
        "7. Write a Python program that calculates the factorial of a number using a for loop."
      ],
      "metadata": {
        "id": "TB-g7AHOVCvR"
      }
    },
    {
      "cell_type": "code",
      "source": [
        "num=int(input(\"enter a number :\"))\n",
        "fact=1\n",
        "for i in range(1,num+1):\n",
        "  fact=fact*i\n",
        "print(fact)\n"
      ],
      "metadata": {
        "colab": {
          "base_uri": "https://localhost:8080/"
        },
        "id": "IByQ_ngwVF0g",
        "outputId": "5f819aba-185b-4e7a-d932-5433b6d40f71"
      },
      "execution_count": null,
      "outputs": [
        {
          "output_type": "stream",
          "name": "stdout",
          "text": [
            "enter a number :4\n",
            "24\n"
          ]
        }
      ]
    },
    {
      "cell_type": "markdown",
      "source": [
        "8. How can you iterate through the characters of a string using a for loop in Python?\n"
      ],
      "metadata": {
        "id": "6-on69pToWHD"
      }
    },
    {
      "cell_type": "markdown",
      "source": [
        "You can use the Python range() function to get the range of the sequence and use the len() function to get the length of the Passed object. You can iterate range(0, len(str)) using for loop, for every iteration to get the index and corresponding character of the string."
      ],
      "metadata": {
        "id": "dQkzeujsoaBb"
      }
    },
    {
      "cell_type": "markdown",
      "source": [
        "9. Write a Python program to find the largest number in a list using a for loop.\n"
      ],
      "metadata": {
        "id": "QuA4g9dmojkU"
      }
    },
    {
      "cell_type": "code",
      "source": [
        "list2=[1,2,3,4,5,6,7,8,9]\n",
        "largest_number=list2[0]\n",
        "for num in list2:\n",
        "  if num>largest_number:\n",
        "    largest_number=num\n",
        "print(largest_number)"
      ],
      "metadata": {
        "colab": {
          "base_uri": "https://localhost:8080/"
        },
        "id": "YUoLG6SJoW5c",
        "outputId": "1950c0b1-7a91-4570-9d7e-61e64887f43c"
      },
      "execution_count": null,
      "outputs": [
        {
          "output_type": "stream",
          "name": "stdout",
          "text": [
            "9\n"
          ]
        }
      ]
    },
    {
      "cell_type": "markdown",
      "source": [
        "10. Create a Python program that prints the Fibonacci sequence up to a specified limit using a for\n",
        "loop."
      ],
      "metadata": {
        "id": "TLje9pAvqfte"
      }
    },
    {
      "cell_type": "code",
      "source": [
        "limit = int(input(\"Enter the limit for the Fibonacci sequence: \"))\n",
        "a, b = 0, 1\n",
        "print(a, b, end=\" \")\n",
        "for _ in range(limit):\n",
        "    c = a + b\n",
        "\n",
        "    if c > limit:\n",
        "        break\n",
        "\n",
        "    print(c, end=\" \")\n",
        "\n",
        "    a, b = b, c\n"
      ],
      "metadata": {
        "colab": {
          "base_uri": "https://localhost:8080/"
        },
        "id": "XGTPer8-pUaj",
        "outputId": "1a90867b-7b8e-46bf-e30d-c21a544fea73"
      },
      "execution_count": null,
      "outputs": [
        {
          "output_type": "stream",
          "name": "stdout",
          "text": [
            "Enter the limit for the Fibonacci sequence: 10\n",
            "0 1 1 2 3 5 8 "
          ]
        }
      ]
    },
    {
      "cell_type": "markdown",
      "source": [
        "11. Write a Python program to count the number of vowels in a given string using a for loop"
      ],
      "metadata": {
        "id": "6kzi5iifrld9"
      }
    },
    {
      "cell_type": "code",
      "source": [
        "string=input(\"enter a word :\")\n",
        "count=0\n",
        "vowels=set(\"aeiouAEIOU\")\n",
        "for char in string:\n",
        "  if char in vowels:\n",
        "    count=count+1\n",
        "print(\"vowel present in word is :\",count)"
      ],
      "metadata": {
        "colab": {
          "base_uri": "https://localhost:8080/"
        },
        "id": "eTylFTqkq230",
        "outputId": "2b1cd6c9-cee4-4f25-dc04-cd914d11c409"
      },
      "execution_count": null,
      "outputs": [
        {
          "output_type": "stream",
          "name": "stdout",
          "text": [
            "enter a word :aeiou\n",
            "vowel present in word is : 5\n"
          ]
        }
      ]
    },
    {
      "cell_type": "markdown",
      "source": [
        "12. Create a Python program that generates a multiplication table for a given number using a for\n",
        "loop."
      ],
      "metadata": {
        "id": "L4bkAF5buFUM"
      }
    },
    {
      "cell_type": "code",
      "source": [
        "n=int(input(\"Generates a multiplication table for a given number :\"))\n",
        "for i in range(1,11):\n",
        "  print(n,\"x\",i ,\"=\", n*i)\n"
      ],
      "metadata": {
        "colab": {
          "base_uri": "https://localhost:8080/"
        },
        "id": "kMy_-7qqsUWq",
        "outputId": "5f75b122-1397-4def-c84d-2b03ee6985df"
      },
      "execution_count": null,
      "outputs": [
        {
          "output_type": "stream",
          "name": "stdout",
          "text": [
            "Generates a multiplication table for a given number :3\n",
            "3 x 1 = 3\n",
            "3 x 2 = 6\n",
            "3 x 3 = 9\n",
            "3 x 4 = 12\n",
            "3 x 5 = 15\n",
            "3 x 6 = 18\n",
            "3 x 7 = 21\n",
            "3 x 8 = 24\n",
            "3 x 9 = 27\n",
            "3 x 10 = 30\n"
          ]
        }
      ]
    },
    {
      "cell_type": "markdown",
      "source": [
        "13. Write a Python program to reverse a list using a for loop"
      ],
      "metadata": {
        "id": "sUV03FJpu2yF"
      }
    },
    {
      "cell_type": "code",
      "source": [
        "original_list = [1, 2, 3, 4, 5]\n",
        "print(\"Original List:\", original_list)\n",
        "list_length = len(original_list)\n",
        "for i in range(list_length // 2):\n",
        "    original_list[i], original_list[list_length - 1 - i] = original_list[list_length - 1 - i], original_list[i]\n",
        "print(\"Reversed List:\", original_list)\n"
      ],
      "metadata": {
        "id": "qY7ToHqHup2O",
        "colab": {
          "base_uri": "https://localhost:8080/"
        },
        "outputId": "8a264177-bac9-4821-915f-fdb4a7197e87"
      },
      "execution_count": null,
      "outputs": [
        {
          "output_type": "stream",
          "name": "stdout",
          "text": [
            "Original List: [1, 2, 3, 4, 5]\n",
            "Reversed List: [5, 4, 3, 2, 1]\n"
          ]
        }
      ]
    },
    {
      "cell_type": "markdown",
      "source": [
        "14. Write a Python program to find the common elements between two lists using a for loop."
      ],
      "metadata": {
        "id": "n3e4lAVT_G1I"
      }
    },
    {
      "cell_type": "code",
      "source": [
        "list1=[1,2,3,4,56,7,8,9]\n",
        "list2=[3,12,7,56,8,76,9]\n",
        "print(list1)\n",
        "print(list2)\n",
        "comman_list=[]\n",
        "for element in list1:\n",
        "  if element in list1:\n",
        "    if element in list2:\n",
        "      comman_list.append(element)\n",
        "print(\"common element between teo list is :\",comman_list)"
      ],
      "metadata": {
        "colab": {
          "base_uri": "https://localhost:8080/"
        },
        "id": "bLG_9x7t-Uqp",
        "outputId": "d5fdfd2e-f276-4acf-b521-35946cc9b7e2"
      },
      "execution_count": null,
      "outputs": [
        {
          "output_type": "stream",
          "name": "stdout",
          "text": [
            "[1, 2, 3, 4, 56, 7, 8, 9]\n",
            "[3, 12, 7, 56, 8, 76, 9]\n",
            "common element between teo list is : [3, 56, 7, 8, 9]\n"
          ]
        }
      ]
    },
    {
      "cell_type": "markdown",
      "source": [
        "15. Explain how to use a for loop to iterate through the keys and values of a dictionary in Python."
      ],
      "metadata": {
        "id": "RzalgwcnAv_w"
      }
    },
    {
      "cell_type": "markdown",
      "source": [
        "In Python, to iterate through a dictionary ( dict ) with a for loop, use the keys() , values() , and items() methods. You can also get a list of all the keys and values in a dictionary using those methods and list() . See the following article for the basics of for loops in Python."
      ],
      "metadata": {
        "id": "ijZl_ZGeA_sI"
      }
    },
    {
      "cell_type": "markdown",
      "source": [
        "16. Write a Python program to find the GCD (Greatest Common Divisor) of two numbers using a for\n",
        "loop."
      ],
      "metadata": {
        "id": "Pn3_mxxyBHIQ"
      }
    },
    {
      "cell_type": "code",
      "source": [
        "\n",
        "num1 = int(input(\"Enter the first number: \"))\n",
        "num2 = int(input(\"Enter the second number: \"))\n",
        "if num1 < num2:\n",
        "    smaller = num1\n",
        "else:\n",
        "    smaller = num2\n",
        "gcd = 1\n",
        "for i in range(1, smaller + 1):\n",
        "    if num1 % i == 0 and num2 % i == 0:\n",
        "        gcd = i\n",
        "print(f\"The GCD of {num1} and {num2} is: {gcd}\")\n"
      ],
      "metadata": {
        "colab": {
          "base_uri": "https://localhost:8080/"
        },
        "id": "g16uqzeOA9hc",
        "outputId": "7dba969a-2956-47f9-8085-31c0f554ad2f"
      },
      "execution_count": null,
      "outputs": [
        {
          "output_type": "stream",
          "name": "stdout",
          "text": [
            "Enter the first number: 20\n",
            "Enter the second number: 70\n",
            "The GCD of 20 and 70 is: 10\n"
          ]
        }
      ]
    },
    {
      "cell_type": "markdown",
      "source": [
        "17. Create a Python program that checks if a string is a palindrome using a for loop.\n"
      ],
      "metadata": {
        "id": "Mj6CG9iiCbGw"
      }
    },
    {
      "cell_type": "markdown",
      "source": [
        "18. Write a Python program to remove duplicates from a list using a for loop.\n"
      ],
      "metadata": {
        "id": "G7BoyEO-DV5b"
      }
    },
    {
      "cell_type": "code",
      "source": [
        "list1=[1,2,3,4,5,6,3,4,1,7,8,45]\n",
        "list2=[]\n",
        "for i in list1:\n",
        "  if i not in list2:\n",
        "    list2.append(i)\n",
        "print(list1)\n",
        "print(list2)"
      ],
      "metadata": {
        "colab": {
          "base_uri": "https://localhost:8080/"
        },
        "id": "OXTm7OJwBkyX",
        "outputId": "ec78bf5c-d57e-46fe-8d1d-fa02bd7e5dd9"
      },
      "execution_count": null,
      "outputs": [
        {
          "output_type": "stream",
          "name": "stdout",
          "text": [
            "[1, 2, 3, 4, 5, 6, 3, 4, 1, 7, 8, 45]\n",
            "[1, 2, 3, 4, 5, 6, 7, 8, 45]\n"
          ]
        }
      ]
    },
    {
      "cell_type": "markdown",
      "source": [
        "19. Create a Python program that counts the number of words in a sentence using a for loop."
      ],
      "metadata": {
        "id": "G52nkFhUFn7n"
      }
    },
    {
      "cell_type": "code",
      "source": [
        "string=input(\"enter a sentence Here :\")\n",
        "count=0\n",
        "for i in string:\n",
        "  count+=1\n",
        "print(\"Number of words present in Sentence is :\",count)"
      ],
      "metadata": {
        "colab": {
          "base_uri": "https://localhost:8080/"
        },
        "id": "UclJ-OkIEn1I",
        "outputId": "4b24e578-92ff-4822-e09a-884619089e55"
      },
      "execution_count": null,
      "outputs": [
        {
          "output_type": "stream",
          "name": "stdout",
          "text": [
            "enter a sentence Here :my name is vishal karhad\n",
            "Number of words present in Sentence is : 24\n"
          ]
        }
      ]
    },
    {
      "cell_type": "markdown",
      "source": [
        "20. Write a Python program to find the sum of all odd numbers from 1 to 50 using a for loop."
      ],
      "metadata": {
        "id": "imFaO4VaGTKv"
      }
    },
    {
      "cell_type": "code",
      "source": [
        "sum=0\n",
        "for i in range(1,51):\n",
        "  if i%2!=0:\n",
        "    sum=sum+i\n",
        "print(\"Sum of all odd number from 1 to 50 is :\",sum)"
      ],
      "metadata": {
        "colab": {
          "base_uri": "https://localhost:8080/"
        },
        "id": "ibH0AQa8GE1b",
        "outputId": "83640314-4a38-463b-d98b-38940dd710f5"
      },
      "execution_count": null,
      "outputs": [
        {
          "output_type": "stream",
          "name": "stdout",
          "text": [
            "Sum of all odd number from 1 to 50 is : 625\n"
          ]
        }
      ]
    },
    {
      "cell_type": "markdown",
      "source": [
        "21. Write a Python program that checks if a given year is a leap year using a for loop."
      ],
      "metadata": {
        "id": "1nz8yyBXHBOt"
      }
    },
    {
      "cell_type": "code",
      "source": [
        "year = int(input(\"Enter a year: \"))\n",
        "is_leap_year = False\n",
        "for y in range(1900, year + 1, 4):\n",
        "    if (y % 4 == 0 and y % 100 != 0) or (y % 400 == 0):\n",
        "        is_leap_year = True\n",
        "        break\n",
        "if is_leap_year:\n",
        "    print(f\"{year} is a leap year.\")\n",
        "else:\n",
        "    print(f\"{year} is not a leap year.\")\n"
      ],
      "metadata": {
        "colab": {
          "base_uri": "https://localhost:8080/"
        },
        "id": "DH_kjhvGG1A4",
        "outputId": "347ddb06-87c7-4fe2-98df-cc500bc9fe99"
      },
      "execution_count": null,
      "outputs": [
        {
          "output_type": "stream",
          "name": "stdout",
          "text": [
            "Enter a year: 2024\n",
            "2024 is a leap year.\n"
          ]
        }
      ]
    },
    {
      "cell_type": "markdown",
      "source": [
        "22. Create a Python program that calculates the square root of a number using a for loop.\n"
      ],
      "metadata": {
        "id": "jQClVS3THaK2"
      }
    },
    {
      "cell_type": "code",
      "source": [
        "num = float(input(\"Enter a number: \"))\n",
        "guess = num / 2\n",
        "iterations = 100\n",
        "for _ in range(iterations):\n",
        "    guess = (guess + num / guess) / 2\n",
        "print(f\"The square root of {num} is approximately {guess}\")\n"
      ],
      "metadata": {
        "colab": {
          "base_uri": "https://localhost:8080/"
        },
        "id": "2vYbrhYjHUJ9",
        "outputId": "01afbc9f-353a-4f91-ea52-2bb6e157c581"
      },
      "execution_count": null,
      "outputs": [
        {
          "output_type": "stream",
          "name": "stdout",
          "text": [
            "Enter a number: 4\n",
            "The square root of 4.0 is approximately 2.0\n"
          ]
        }
      ]
    },
    {
      "cell_type": "markdown",
      "source": [
        "23. Write a Python program to find the LCM (Least Common Multiple) of two numbers using a for\n",
        "loop.\n"
      ],
      "metadata": {
        "id": "6bSue8S4IDSM"
      }
    },
    {
      "cell_type": "code",
      "source": [
        "num1 = int(input(\"Enter the first number: \"))\n",
        "num2 = int(input(\"Enter the second number: \"))\n",
        "max_num = max(num1, num2)\n",
        "lcm = max_num\n",
        "for i in range(max_num, num1 * num2 + 1, max_num):\n",
        "    if i % num1 == 0 and i % num2 == 0:\n",
        "        lcm = i\n",
        "        break\n",
        "\n",
        "print(f\"The LCM of {num1} and {num2} is: {lcm}\")\n"
      ],
      "metadata": {
        "colab": {
          "base_uri": "https://localhost:8080/"
        },
        "id": "HPzyVkKHHvq3",
        "outputId": "519a1964-150c-4c79-b88e-0b77a7131b56"
      },
      "execution_count": null,
      "outputs": [
        {
          "output_type": "stream",
          "name": "stdout",
          "text": [
            "Enter the first number: 5\n",
            "Enter the second number: 50\n",
            "The LCM of 5 and 50 is: 50\n"
          ]
        }
      ]
    },
    {
      "cell_type": "markdown",
      "source": [
        "**If else :**\n",
        "1. Write a Python program to check if a number is positive, negative, or zero using an if-else\n",
        "statement.\n"
      ],
      "metadata": {
        "id": "SjfBEBz7I8bY"
      }
    },
    {
      "cell_type": "code",
      "source": [
        "number=int(input(\"enter a any number Here :\"))\n",
        "if number>0:\n",
        "  print(\"Given number is Positive\")\n",
        "elif number<0:\n",
        "  print(\"Given number is Negative\")\n",
        "else:\n",
        "  print(\"Given number is Zero\")"
      ],
      "metadata": {
        "colab": {
          "base_uri": "https://localhost:8080/"
        },
        "id": "l-k8_URNIdPL",
        "outputId": "bc13f30b-bc65-4dc1-b5f4-86389836ad9f"
      },
      "execution_count": null,
      "outputs": [
        {
          "output_type": "stream",
          "name": "stdout",
          "text": [
            "enter a any number Here :7\n",
            "Given number is Positive\n"
          ]
        }
      ]
    },
    {
      "cell_type": "markdown",
      "source": [
        "2. Create a Python program that checks if a given number is even or odd using an if-else statement."
      ],
      "metadata": {
        "id": "1aYSZq8wKWWX"
      }
    },
    {
      "cell_type": "code",
      "source": [
        "number1=int(input(\"Enter number Here :\"))\n",
        "if number1%2==0:\n",
        "  print(\"Given number is even :\",number1)\n",
        "else:\n",
        "  print(\"given number is odd :\",number1)"
      ],
      "metadata": {
        "colab": {
          "base_uri": "https://localhost:8080/"
        },
        "id": "YXLu74zqKDn-",
        "outputId": "4e05f054-7e5a-4657-8adf-932ffa1f5a6c"
      },
      "execution_count": null,
      "outputs": [
        {
          "output_type": "stream",
          "name": "stdout",
          "text": [
            "Enter number Here :76\n",
            "Given number is even : 76\n"
          ]
        }
      ]
    },
    {
      "cell_type": "markdown",
      "source": [
        "3. How can you use nested if-else statements in Python, and provide an example?"
      ],
      "metadata": {
        "id": "M2Xs1WkULA8S"
      }
    },
    {
      "cell_type": "markdown",
      "source": [
        "Nested if-else statements in Python allow you to test multiple conditions and execute different code blocks based on the results of these tests. The basic syntax of a nested if-else statement is as follows: (Using if-else statement within another if statement."
      ],
      "metadata": {
        "id": "AR-3xiXnLTn8"
      }
    },
    {
      "cell_type": "code",
      "source": [
        "# Syntax of nested if else\n",
        "if condition1:\n",
        "    # Execute if condition1 is true\n",
        "    if condition2:\n",
        "        # Execute if both condition1 and condition2 are true\n",
        "    else:\n",
        "        # Execute if condition1 is true but condition2 is false\n",
        "else:\n",
        "    # Execute if condition1 is false"
      ],
      "metadata": {
        "colab": {
          "base_uri": "https://localhost:8080/",
          "height": 141
        },
        "id": "GjpaMQhzKz3X",
        "outputId": "3acfc447-202e-4f68-e906-68569e54f6f9"
      },
      "execution_count": null,
      "outputs": [
        {
          "output_type": "error",
          "ename": "IndentationError",
          "evalue": "ignored",
          "traceback": [
            "\u001b[0;36m  File \u001b[0;32m\"<ipython-input-27-74822c68b1f9>\"\u001b[0;36m, line \u001b[0;32m6\u001b[0m\n\u001b[0;31m    else:\u001b[0m\n\u001b[0m    ^\u001b[0m\n\u001b[0;31mIndentationError\u001b[0m\u001b[0;31m:\u001b[0m expected an indented block after 'if' statement on line 4\n"
          ]
        }
      ]
    },
    {
      "cell_type": "markdown",
      "source": [
        "4. Write a Python program to determine the largest of three numbers using if-else.\n"
      ],
      "metadata": {
        "id": "EB7Vq5l7kwiR"
      }
    },
    {
      "cell_type": "code",
      "source": [
        "a=int(input(\"Enter a first Number :\"))\n",
        "b=int(input(\"Enter a second Number :\"))\n",
        "c=int(input(\"Enter a third Number :\"))\n",
        "if a>b and a>c:\n",
        "  print(a,\": is largest Number of three number\")\n",
        "elif b>a and b>c:\n",
        "  print(b,\": is largest Number of three number\")\n",
        "else:\n",
        "  print(c,\": is largest Number of three number\")"
      ],
      "metadata": {
        "id": "5NPF5NI3LZYD",
        "colab": {
          "base_uri": "https://localhost:8080/"
        },
        "outputId": "793dd9c7-bef0-42d2-d04d-631a3fc92a65"
      },
      "execution_count": null,
      "outputs": [
        {
          "output_type": "stream",
          "name": "stdout",
          "text": [
            "Enter a first Number :4\n",
            "Enter a second Number :7\n",
            "Enter a third Number :2\n",
            "7 : is largest Number of three number\n"
          ]
        }
      ]
    },
    {
      "cell_type": "markdown",
      "source": [
        "5. Write a Python program that calculates the absolute value of a number using if-else."
      ],
      "metadata": {
        "id": "4oVKU1yDmKso"
      }
    },
    {
      "cell_type": "code",
      "source": [
        "number=int(input(\"enter a number Here :\"))\n",
        "if number>0:\n",
        "  print(number)\n",
        "else:\n",
        "  absolute= -number\n",
        "  print(absolute)"
      ],
      "metadata": {
        "colab": {
          "base_uri": "https://localhost:8080/"
        },
        "id": "mME6wZ3wl6lc",
        "outputId": "18977c92-d386-4616-dd4e-e10c7aee48f2"
      },
      "execution_count": null,
      "outputs": [
        {
          "output_type": "stream",
          "name": "stdout",
          "text": [
            "enter a number Here :-7\n",
            "7\n"
          ]
        }
      ]
    },
    {
      "cell_type": "markdown",
      "source": [
        "6. Create a Python program that checks if a given character is a vowel or consonant using if-else."
      ],
      "metadata": {
        "id": "0yiFjTTMm-rR"
      }
    },
    {
      "cell_type": "code",
      "source": [
        "string=input(\" Checks if a given character is a vowel or consonant :\")\n",
        "vowels=set(\"AEIOUaeiou\")\n",
        "if string not in vowels:\n",
        "  print(string, \": is consonant\")\n",
        "else:\n",
        "  print(string,'is vowel')"
      ],
      "metadata": {
        "colab": {
          "base_uri": "https://localhost:8080/"
        },
        "id": "-lZqACp4m4eZ",
        "outputId": "cf452fa7-e2dc-4222-e40f-298796436b1c"
      },
      "execution_count": null,
      "outputs": [
        {
          "output_type": "stream",
          "name": "stdout",
          "text": [
            " Checks if a given character is a vowel or consonant :v\n",
            "v : is consonant\n"
          ]
        }
      ]
    },
    {
      "cell_type": "markdown",
      "source": [
        "7. Write a Python program to determine if a user is eligible to vote based on their age using if-else.\n"
      ],
      "metadata": {
        "id": "h6GZzDrGn7Ow"
      }
    },
    {
      "cell_type": "code",
      "source": [
        "age=int(input(\"Enter your age Here :\"))\n",
        "if 18<age:\n",
        "  print(\"you are eligible for vote\")\n",
        "else:\n",
        "  print(\"You are not eligible\")"
      ],
      "metadata": {
        "colab": {
          "base_uri": "https://localhost:8080/"
        },
        "id": "Ig5FTJt6nyGg",
        "outputId": "58f2624b-9015-4191-9500-ec0e2e73cfe1"
      },
      "execution_count": null,
      "outputs": [
        {
          "output_type": "stream",
          "name": "stdout",
          "text": [
            "Enter your age Here :45\n",
            "you are eligible for vote\n"
          ]
        }
      ]
    },
    {
      "cell_type": "markdown",
      "source": [
        "8. Create a Python program that calculates the discount amount based on the purchase amount\n",
        "using if-else."
      ],
      "metadata": {
        "id": "4wkFt_Moom5A"
      }
    },
    {
      "cell_type": "code",
      "source": [
        "amount=int(input(\"Enter your total amount Here :\"))\n",
        "if amount>=500:\n",
        "  discount=amount-(amount*5//100)\n",
        "  print(\"discount amount based on the purchase amount is :\",discount)\n",
        "  save=amount-discount\n",
        "  print(\"You SAVE $\",save)\n",
        "elif amount>=5000:\n",
        "  discount=amount-(amount*10//100)\n",
        "  print(\"discount amount based on the purchase amount is :\",discount)\n",
        "  save=amount-discount\n",
        "  print(\"You SAVE $\",save)\n",
        "else:\n",
        "  print(\"you are not eligiable for discount\")\n"
      ],
      "metadata": {
        "colab": {
          "base_uri": "https://localhost:8080/"
        },
        "id": "BqIMpnv9oh5E",
        "outputId": "19ed994f-95d4-4819-ec1e-b94f9e65ac41"
      },
      "execution_count": null,
      "outputs": [
        {
          "output_type": "stream",
          "name": "stdout",
          "text": [
            "Enter your total amount Here :6789\n",
            "discount amount based on the purchase amount is : 6450\n",
            "You SAVE $ 339\n"
          ]
        }
      ]
    },
    {
      "cell_type": "markdown",
      "source": [
        "9. Write a Python program to check if a number is within a specified range using if-else.\n"
      ],
      "metadata": {
        "id": "iqJ64nOQro-D"
      }
    },
    {
      "cell_type": "code",
      "source": [
        "print(\"choice a number betwee 1 to 100\")\n",
        "number=int(input(\"Enter a number\"))\n",
        "if number in range(1,101):\n",
        "  print(\"You are in range :\",number)\n",
        "else:\n",
        "  print(\"sorry you are not in range :\",number)"
      ],
      "metadata": {
        "colab": {
          "base_uri": "https://localhost:8080/"
        },
        "id": "9akYjmoYqHQM",
        "outputId": "09f628bd-d21e-4ed4-8a0e-9e67245d717a"
      },
      "execution_count": null,
      "outputs": [
        {
          "output_type": "stream",
          "name": "stdout",
          "text": [
            "choice a number betwee 1 to 100\n",
            "Enter a number78\n",
            "You are in range : 78\n"
          ]
        }
      ]
    },
    {
      "cell_type": "markdown",
      "source": [
        "10. Create a Python program that determines the grade of a student based on their score using\n",
        "if-else.\n"
      ],
      "metadata": {
        "id": "p4HCKEg2s7Cx"
      }
    },
    {
      "cell_type": "code",
      "source": [
        "score=int(input(\"Enter your Score Here :\"))\n",
        "if score>=90:\n",
        "  print(\"You Have a \",score, \" with grade : A\")\n",
        "elif 90>score>=80:\n",
        "  print(\"You Have a \",score, \" with grade : B\")\n",
        "elif 80>score>=70:\n",
        "  print(\"You Have a \",score, \" with grade : C\")\n",
        "elif 70>score>=60:\n",
        "  print(\"You Have a \",score, \" with grade : D\")\n",
        "else:\n",
        "  print(\"You are failed\")"
      ],
      "metadata": {
        "colab": {
          "base_uri": "https://localhost:8080/"
        },
        "id": "cbPGVIagsWP7",
        "outputId": "c11dfac8-4966-41af-ae05-fbbdc8b75539"
      },
      "execution_count": null,
      "outputs": [
        {
          "output_type": "stream",
          "name": "stdout",
          "text": [
            "Enter your Score Here :89\n",
            "You Have a  89  with grade : B\n"
          ]
        }
      ]
    },
    {
      "cell_type": "markdown",
      "source": [
        "11. Write a Python program to check if a string is empty or not using if-else"
      ],
      "metadata": {
        "id": "W6lrjxs9uWD6"
      }
    },
    {
      "cell_type": "code",
      "source": [
        "strint=input(\"Enter a string HERE :\")\n",
        "if len(string)>0:\n",
        "  print(\"string contain word\")\n",
        "else:\n",
        "  print(\"Your string is empty\")"
      ],
      "metadata": {
        "colab": {
          "base_uri": "https://localhost:8080/"
        },
        "id": "JFjaSAB9t8x0",
        "outputId": "430a2e70-1f4c-44f9-dbda-d3ec2a708903"
      },
      "execution_count": null,
      "outputs": [
        {
          "output_type": "stream",
          "name": "stdout",
          "text": [
            "Enter a string HERE :r\n",
            "string contain word\n"
          ]
        }
      ]
    },
    {
      "cell_type": "markdown",
      "source": [
        "12. Create a Python program that identifies the type of a triangle (e.g., equilateral, isosceles, or\n",
        "scalene) based on input values using if-else.\n"
      ],
      "metadata": {
        "id": "zhCl-eR5wiHt"
      }
    },
    {
      "cell_type": "code",
      "source": [
        "side1=int(input(\"Enter a first side of Triangle :\"))\n",
        "side2=int(input(\"Enter a second side of Triangle :\"))\n",
        "side3=int(input(\"Enter a third side of Triangle :\"))\n",
        "if side1==side2 and side1==side3 and side2==side3:\n",
        "  print(\"Triangle is Equilateral Triangle\")\n",
        "elif (side1==side2 or side2==side3) or (side1==side3 or side2==side1):\n",
        "  print(\"Triangle is Isosceles Triange\")\n",
        "else:\n",
        "  print(\"Triangle is scalene Triangle\")"
      ],
      "metadata": {
        "colab": {
          "base_uri": "https://localhost:8080/"
        },
        "id": "cq7X_FNJvnN0",
        "outputId": "c1e24f36-d9e4-4df9-97c3-b57361e21d91"
      },
      "execution_count": null,
      "outputs": [
        {
          "output_type": "stream",
          "name": "stdout",
          "text": [
            "Enter a first side of Triangle :4\n",
            "Enter a second side of Triangle :4\n",
            "Enter a third side of Triangle :6\n",
            "Triangle is Isosceles Triange\n"
          ]
        }
      ]
    },
    {
      "cell_type": "markdown",
      "source": [
        "13. Write a Python program to determine the day of the week based on a user-provided number\n",
        "using if-else.\n"
      ],
      "metadata": {
        "id": "SMN1qjDCAmPa"
      }
    },
    {
      "cell_type": "code",
      "source": [
        "print(\"pick up number between 1 to 7\")\n",
        "number=int(input(\"Enter a number to determent day :\"))\n",
        "day=['monday','Tuesday','Wendesday','Thuesday','Friend','Saturday','Sunday']\n",
        "if number<8:\n",
        "  print(\"You pick a \",number,\"its\",day[number-1])\n",
        "else:\n",
        "  print(\"choice correct number\")"
      ],
      "metadata": {
        "colab": {
          "base_uri": "https://localhost:8080/"
        },
        "id": "KZKHG3bA-3n9",
        "outputId": "d730df04-d00b-4742-c43f-9be448883a5f"
      },
      "execution_count": null,
      "outputs": [
        {
          "output_type": "stream",
          "name": "stdout",
          "text": [
            "pick up number between 1 to 7\n",
            "Enter a number to determent day :4\n",
            "You pick a  4 its Thuesday\n"
          ]
        }
      ]
    },
    {
      "cell_type": "markdown",
      "source": [
        "14. Create a Python program that checks if a given year is a leap year using both if-else and a\n",
        "function.\n"
      ],
      "metadata": {
        "id": "DOJ9AHsJDc2B"
      }
    },
    {
      "cell_type": "code",
      "source": [
        "def leap(n):\n",
        "  if n%400==0 or n%4==0:\n",
        "    return print(n,\": is leap year\")\n",
        "  else:\n",
        "    print(n,\": is not leap year\")\n",
        "x=int(input(\"Enter year to check leap year or Not :\"))\n",
        "leap(x)"
      ],
      "metadata": {
        "colab": {
          "base_uri": "https://localhost:8080/"
        },
        "id": "0ta7E6KcCWyv",
        "outputId": "dc09636b-1cdc-4244-b138-40bdd982a41b"
      },
      "execution_count": null,
      "outputs": [
        {
          "output_type": "stream",
          "name": "stdout",
          "text": [
            "Enter year to check leap year or Not :2022\n",
            "2022 : is not leap year\n"
          ]
        }
      ]
    },
    {
      "cell_type": "markdown",
      "source": [
        "15. How do you use the \"assert\" statement in Python to add debugging checks within if-else blocks?"
      ],
      "metadata": {
        "id": "UBiKWRYtFEmQ"
      }
    },
    {
      "cell_type": "markdown",
      "source": [
        "Python’s assert statement allows you to write sanity checks in your code. These checks are known as assertions, and you can use them to test if certain assumptions remain true while you’re developing your code. If any of your assertions turn false, then you have a bug in your code.\n",
        "\n",
        "Assertions are a convenient tool for documenting, debugging, and testing code during development. Once you’ve debugged and tested your code with the help of assertions, then you can turn them off to optimize the code for production. Assertions will help you make your code more efficient, robust, and reliable.\n",
        "\n",
        "In this tutorial, you’ll learn:\n",
        "\n",
        "What assertions are and when to use them\n",
        "How Python’s assert statement works\n",
        "How assert can help you document, debug, and test your code\n",
        "How assertions can be disabled to improve performance in production\n",
        "What common pitfalls you might face when using assert statements"
      ],
      "metadata": {
        "id": "ffPe1b5HFRxy"
      }
    },
    {
      "cell_type": "markdown",
      "source": [
        "16. Create a Python program that determines the eligibility of a person for a senior citizen discount\n",
        "based on age using if-else."
      ],
      "metadata": {
        "id": "3Y3cAe9lFUQ5"
      }
    },
    {
      "cell_type": "code",
      "source": [
        "def check_senior_citizen_discount(age):\n",
        "    senior_citizen_age = 60\n",
        "    if age >= senior_citizen_age:\n",
        "        eligibility = True\n",
        "    else:\n",
        "        eligibility = False\n",
        "\n",
        "    return eligibility\n",
        "user_age = int(input(\"Enter your age: \"))\n",
        "if check_senior_citizen_discount(user_age):\n",
        "    print(\"Congratulations! You are eligible for a senior citizen discount.\")\n",
        "else:\n",
        "    print(\"Sorry, you are not eligible for a senior citizen discount.\")\n"
      ],
      "metadata": {
        "colab": {
          "base_uri": "https://localhost:8080/"
        },
        "id": "JsIAoBwLEL43",
        "outputId": "ed5c0cb9-198c-4acb-d656-92c18b8e2b43"
      },
      "execution_count": null,
      "outputs": [
        {
          "output_type": "stream",
          "name": "stdout",
          "text": [
            "Enter your age: 61\n",
            "Congratulations! You are eligible for a senior citizen discount.\n"
          ]
        }
      ]
    },
    {
      "cell_type": "markdown",
      "source": [
        "17. Write a Python program to categorize a given character as uppercase, lowercase, or neither\n",
        "using if-else.\n"
      ],
      "metadata": {
        "id": "w7pQ9r_tHqXJ"
      }
    },
    {
      "cell_type": "code",
      "source": [
        "string=input(\"Enter a string\")\n",
        "if string==string.upper():\n",
        "  print('Giver charecter is in uppercase')\n",
        "elif string==string.lower():\n",
        "  print('Giver charecter is in lowercase')\n",
        "else:\n",
        "  print(\"string contain both case uppercase and lowercase\")"
      ],
      "metadata": {
        "colab": {
          "base_uri": "https://localhost:8080/"
        },
        "id": "6tmzUVj3HkVo",
        "outputId": "d557ec43-a1ea-46e2-c974-5516a08e8e35"
      },
      "execution_count": null,
      "outputs": [
        {
          "output_type": "stream",
          "name": "stdout",
          "text": [
            "Enter a stringVISHAL\n",
            "Giver charecter is in uppercase\n"
          ]
        }
      ]
    },
    {
      "cell_type": "markdown",
      "source": [
        "18. Write a Python program to determine the roots of a quadratic equation using if-else"
      ],
      "metadata": {
        "id": "Ug6_YFThI35B"
      }
    },
    {
      "cell_type": "code",
      "source": [
        "import math\n",
        "\n",
        "# Function to determine the roots of a quadratic equation\n",
        "def find_roots(a, b, c):\n",
        "    # Calculate the discriminant\n",
        "    discriminant = b**2 - 4*a*c\n",
        "\n",
        "    # Check the nature of the roots\n",
        "    if discriminant > 0:\n",
        "        # Two real and distinct roots\n",
        "        root1 = (-b + math.sqrt(discriminant)) / (2*a)\n",
        "        root2 = (-b - math.sqrt(discriminant)) / (2*a)\n",
        "        print(f\"The roots of the quadratic equation are real and distinct: {root1} and {root2}\")\n",
        "    elif discriminant == 0:\n",
        "        # Two real and identical roots (both roots are the same)\n",
        "        root = -b / (2*a)\n",
        "        print(f\"The roots of the quadratic equation are real and identical: {root}\")\n",
        "    else:\n",
        "        # Complex roots (real and imaginary parts)\n",
        "        real_part = -b / (2*a)\n",
        "        imaginary_part = math.sqrt(abs(discriminant)) / (2*a)\n",
        "        print(f\"The roots of the quadratic equation are complex: {real_part} + {imaginary_part}i and {real_part} - {imaginary_part}i\")\n",
        "\n",
        "# Get user input for coefficients\n",
        "a = float(input(\"Enter the coefficient a: \"))\n",
        "b = float(input(\"Enter the coefficient b: \"))\n",
        "c = float(input(\"Enter the coefficient c: \"))\n",
        "\n",
        "# Call the function to find the roots\n",
        "find_roots(a, b, c)\n"
      ],
      "metadata": {
        "colab": {
          "base_uri": "https://localhost:8080/"
        },
        "id": "nzqs7lq7Ix_5",
        "outputId": "71b8ff83-23f4-4126-df94-bfb55a60cbc8"
      },
      "execution_count": null,
      "outputs": [
        {
          "output_type": "stream",
          "name": "stdout",
          "text": [
            "Enter the coefficient a: 6\n",
            "Enter the coefficient b: 4\n",
            "Enter the coefficient c: 2\n",
            "The roots of the quadratic equation are complex: -0.3333333333333333 + 0.47140452079103173i and -0.3333333333333333 - 0.47140452079103173i\n"
          ]
        }
      ]
    },
    {
      "cell_type": "markdown",
      "source": [
        "19. Create a Python program that checks if a given year is a century year or not using if-else"
      ],
      "metadata": {
        "id": "FkxQay6mJMpZ"
      }
    },
    {
      "cell_type": "code",
      "source": [
        "def century(n):\n",
        "  if n%100==0:\n",
        "    return print(n,\"is century year\")\n",
        "  else:\n",
        "    return print(n,\"is Not century year\")\n",
        "x=int(input('Enter a year Here :'))\n",
        "century(x)"
      ],
      "metadata": {
        "colab": {
          "base_uri": "https://localhost:8080/"
        },
        "id": "QnjiKPgHJBJh",
        "outputId": "ae897859-0cf3-41a7-d8a2-c76cdbbe861c"
      },
      "execution_count": null,
      "outputs": [
        {
          "output_type": "stream",
          "name": "stdout",
          "text": [
            "Enter a year Here :2000\n",
            "2000 is century year\n"
          ]
        }
      ]
    },
    {
      "cell_type": "markdown",
      "source": [
        "20. Write a Python program to determine if a given number is a perfect square using if-else."
      ],
      "metadata": {
        "id": "9vOW2AsUKA1i"
      }
    },
    {
      "cell_type": "code",
      "source": [
        "def is_perfect_square(number):\n",
        "    square_root = int(number**0.5)\n",
        "    if square_root**2 == number:\n",
        "        return True\n",
        "    else:\n",
        "        return False\n",
        "\n",
        "user_number = int(input(\"Enter a number: \"))\n",
        "if is_perfect_square(user_number):\n",
        "    print(f\"{user_number} is a perfect square.\")\n",
        "else:\n",
        "    print(f\"{user_number} is not a perfect square.\")\n"
      ],
      "metadata": {
        "colab": {
          "base_uri": "https://localhost:8080/"
        },
        "id": "pAe9pi9NJ7Cx",
        "outputId": "cf3b195e-d008-48fa-936b-d973c1cb0141"
      },
      "execution_count": null,
      "outputs": [
        {
          "output_type": "stream",
          "name": "stdout",
          "text": [
            "Enter a number: 36\n",
            "36 is a perfect square.\n"
          ]
        }
      ]
    },
    {
      "cell_type": "markdown",
      "source": [
        "21. Explain the purpose of the \"continue\" and \"break\" statements within if-else loops.\n"
      ],
      "metadata": {
        "id": "x-TY-R2XK5Li"
      }
    },
    {
      "cell_type": "markdown",
      "source": [
        "Break statement stops the entire process of the loop. Continue statement only stops the current iteration of the loop. Break also terminates the remaining iterations. Continue doesn't terminate the next iterations; it resumes with the successive iterations."
      ],
      "metadata": {
        "id": "EzwnLDK_K9_Z"
      }
    },
    {
      "cell_type": "markdown",
      "source": [
        "22. Create a Python program that calculates the BMI (Body Mass Index) of a person based on their\n",
        "weight and height using if-else"
      ],
      "metadata": {
        "id": "T-HiL2_ALA64"
      }
    },
    {
      "cell_type": "code",
      "source": [
        "weight_kg = float(input(\"Enter your weight in kilograms: \"))\n",
        "height_m = float(input(\"Enter your height in meters: \"))\n",
        "\n",
        "bmi = weight_kg / (height_m ** 2)\n",
        "if bmi < 18.5:\n",
        "    category = \"Underweight\"\n",
        "elif 18.5 <= bmi < 25:\n",
        "    category = \"Normal weight\"\n",
        "elif 25 <= bmi < 30:\n",
        "    category = \"Overweight\"\n",
        "else:\n",
        "    category = \"Obese\"\n",
        "print(f\"Your BMI is: {bmi:.2f}\")\n",
        "print(f\"You are categorized as: {category}\")\n"
      ],
      "metadata": {
        "colab": {
          "base_uri": "https://localhost:8080/"
        },
        "id": "ov1Uv22rKSv4",
        "outputId": "9a685c98-16ec-43ea-8725-533e20336483"
      },
      "execution_count": null,
      "outputs": [
        {
          "output_type": "stream",
          "name": "stdout",
          "text": [
            "Enter your weight in kilograms: 45\n",
            "Enter your height in meters: 1.73\n",
            "Your BMI is: 15.04\n",
            "You are categorized as: Underweight\n"
          ]
        }
      ]
    },
    {
      "cell_type": "markdown",
      "source": [
        "23. How can you use the \"filter()\" function with if-else statements to filter elements from a list?"
      ],
      "metadata": {
        "id": "pwoZ_339LcQi"
      }
    },
    {
      "cell_type": "markdown",
      "source": [
        "Answer-First, define an empty list ( filtered ) that will hold the elements from the scores list.\n",
        "Second, iterate over the elements of the scores list. If the element is greater than or equal to 70, add it to the filtered list.\n",
        "Third, show the filtered list to the screen."
      ],
      "metadata": {
        "id": "Z_3j4wDAvWIu"
      }
    },
    {
      "cell_type": "markdown",
      "source": [
        "24. Write a Python program to determine if a given number is prime or not using if-else.\n"
      ],
      "metadata": {
        "id": "z9ltNWqLLnEq"
      }
    },
    {
      "cell_type": "code",
      "source": [
        "user_number = int(input(\"Enter a number: \"))\n",
        "if user_number > 1:\n",
        "    for i in range(2, int(user_number**0.5) + 1):\n",
        "        if user_number % i == 0:\n",
        "            print(f\"{user_number} is not a prime number.\")\n",
        "            break\n",
        "    else:\n",
        "        print(f\"{user_number} is a prime number.\")\n",
        "else:\n",
        "    print(f\"{user_number} is not a prime number.\")\n"
      ],
      "metadata": {
        "colab": {
          "base_uri": "https://localhost:8080/"
        },
        "id": "7TwsinpsLVyi",
        "outputId": "5e29a380-71ce-4188-9c3b-287685fc5a80"
      },
      "execution_count": null,
      "outputs": [
        {
          "output_type": "stream",
          "name": "stdout",
          "text": [
            "Enter a number: 7\n",
            "7 is a prime number.\n"
          ]
        }
      ]
    },
    {
      "cell_type": "markdown",
      "source": [
        "**Map :-**\n",
        "1. Explain the purpose of the `map()` function in Python and provide an example of how it can be\n",
        "used to apply a function to each element of an iterable."
      ],
      "metadata": {
        "id": "E-cbb1giMGph"
      }
    },
    {
      "cell_type": "code",
      "source": [],
      "metadata": {
        "id": "auJKWkCkMB7q"
      },
      "execution_count": null,
      "outputs": []
    },
    {
      "cell_type": "markdown",
      "source": [
        "2. Write a Python program that uses the `map()` function to square each element of a list of\n",
        "numbers."
      ],
      "metadata": {
        "id": "quZVj_sFMZaa"
      }
    },
    {
      "cell_type": "code",
      "source": [
        "list1=[1,2,3,4,5,6,7,8]\n",
        "x=list(map(lambda a:a**2,list1))\n",
        "print(x)"
      ],
      "metadata": {
        "id": "kwEPfg11Mgax",
        "colab": {
          "base_uri": "https://localhost:8080/"
        },
        "outputId": "e1e70dbd-1c60-48c5-8796-f204e83afad4"
      },
      "execution_count": null,
      "outputs": [
        {
          "output_type": "stream",
          "name": "stdout",
          "text": [
            "[1, 4, 9, 16, 25, 36, 49, 64]\n"
          ]
        }
      ]
    },
    {
      "cell_type": "markdown",
      "source": [
        "3. How does the `map()` function differ from a list comprehension in Python, and when would you\n",
        "choose one over the other?"
      ],
      "metadata": {
        "id": "P2j1dmG3hdTu"
      }
    },
    {
      "cell_type": "markdown",
      "source": [
        "List comprehension can be used together with if condition as replacement of filter method. Map function has no such functionality. However, we can feed the map function output to the filter function. List comprehension returns a list, whereas the map function returns an object of Iterable."
      ],
      "metadata": {
        "id": "KSq1yQlJvlNF"
      }
    },
    {
      "cell_type": "markdown",
      "source": [
        "4. Create a Python program that uses the `map()` function to convert a list of names to uppercase.\n"
      ],
      "metadata": {
        "id": "cYMoBteEhk7F"
      }
    },
    {
      "cell_type": "code",
      "source": [
        "string_of_name=['shubham','Rushikesh','vishal','vaibhav']\n",
        "z=list(map(lambda a:a.upper(),string_of_name))\n",
        "print(z)"
      ],
      "metadata": {
        "id": "MpiOYGeHM606",
        "colab": {
          "base_uri": "https://localhost:8080/"
        },
        "outputId": "95226913-623b-4e6a-ea34-28b401dd1841"
      },
      "execution_count": null,
      "outputs": [
        {
          "output_type": "stream",
          "name": "stdout",
          "text": [
            "['SHUBHAM', 'RUSHIKESH', 'VISHAL', 'VAIBHAV']\n"
          ]
        }
      ]
    },
    {
      "cell_type": "markdown",
      "source": [
        "5. Write a Python program that uses the `map()` function to calculate the length of each word in a\n",
        "list of strings."
      ],
      "metadata": {
        "id": "tWmnh345iG5X"
      }
    },
    {
      "cell_type": "code",
      "source": [
        "string_of_name=['shubham','Rushikesh','vishal','vaibhav']\n",
        "z=list(map(lambda a:len(a),string_of_name))\n",
        "count=0\n",
        "for char in string_of_name:\n",
        "  count+=1\n",
        "  print(char, \"contain\",z[count-1],\"letter\")"
      ],
      "metadata": {
        "colab": {
          "base_uri": "https://localhost:8080/"
        },
        "id": "OEiTmT4TiTn2",
        "outputId": "ea7fe763-8a45-4666-e6de-9ded70af7e01"
      },
      "execution_count": null,
      "outputs": [
        {
          "output_type": "stream",
          "name": "stdout",
          "text": [
            "shubham contain 7 letter\n",
            "Rushikesh contain 9 letter\n",
            "vishal contain 6 letter\n",
            "vaibhav contain 7 letter\n"
          ]
        }
      ]
    },
    {
      "cell_type": "markdown",
      "source": [
        "6. How can you use the `map()` function to apply a custom function to elements of multiple lists\n",
        "simultaneously in Python?\n"
      ],
      "metadata": {
        "id": "gETsaJX6jqhu"
      }
    },
    {
      "cell_type": "markdown",
      "source": [
        "7. Create a Python program that uses `map()` to convert a list of temperatures from Celsius to\n",
        "Fahrenheit."
      ],
      "metadata": {
        "id": "rQQptU83j1mu"
      }
    },
    {
      "cell_type": "code",
      "source": [
        "list_of_tempt=[34,56,78,24,28,69,45]\n",
        "c=list(map(lambda a:a*(9//5)+32,list_of_tempt))\n",
        "print(c)"
      ],
      "metadata": {
        "colab": {
          "base_uri": "https://localhost:8080/"
        },
        "id": "UiLCJgijjDin",
        "outputId": "5d07dd0a-6631-4e6c-9648-eff390ed3f74"
      },
      "execution_count": null,
      "outputs": [
        {
          "output_type": "stream",
          "name": "stdout",
          "text": [
            "[66, 88, 110, 56, 60, 101, 77]\n"
          ]
        }
      ]
    },
    {
      "cell_type": "markdown",
      "source": [
        "8. Write a Python program that uses the `map()` function to round each element of a list of\n",
        "floating-point numbers to the nearest integer."
      ],
      "metadata": {
        "id": "38_5QIZ8kaSG"
      }
    },
    {
      "cell_type": "code",
      "source": [
        "list_of_float_no=[1.2,2.3,4.4,2.7,2.7,8.5,8.9]\n",
        "v=list(map(lambda a:round(a),list_of_float_no))\n",
        "print(v)"
      ],
      "metadata": {
        "colab": {
          "base_uri": "https://localhost:8080/"
        },
        "id": "ow1uU3dNkU9n",
        "outputId": "58f3cd93-9ee4-4ff6-f3a4-06504ffe8ebc"
      },
      "execution_count": null,
      "outputs": [
        {
          "output_type": "stream",
          "name": "stdout",
          "text": [
            "[1, 2, 4, 3, 3, 8, 9]\n"
          ]
        }
      ]
    },
    {
      "cell_type": "markdown",
      "source": [
        "**Reduce :-**\n",
        "1. What is the `reduce()` function in Python, and what module should you import to use it? Provide\n",
        "an example of its basic usage"
      ],
      "metadata": {
        "id": "oPchjISFlKgn"
      }
    },
    {
      "cell_type": "markdown",
      "source": [
        "2. Write a Python program that uses the `reduce()` function to find the product of all elements in a\n",
        "list"
      ],
      "metadata": {
        "id": "2oeS8Ob1skX3"
      }
    },
    {
      "cell_type": "code",
      "source": [
        "from functools import reduce\n",
        "Number=[1,2,4,5,3,6,7,4,3]\n",
        "print(reduce(lambda a,b:a*b,Number))"
      ],
      "metadata": {
        "colab": {
          "base_uri": "https://localhost:8080/"
        },
        "id": "Hj8-vA9BlDjY",
        "outputId": "7420d162-7aa2-46c8-ca31-438fee91bd9a"
      },
      "execution_count": null,
      "outputs": [
        {
          "output_type": "stream",
          "name": "stdout",
          "text": [
            "60480\n"
          ]
        }
      ]
    },
    {
      "cell_type": "markdown",
      "source": [
        "3. Create a Python program that uses `reduce()` to find the maximum element in a list of numbers"
      ],
      "metadata": {
        "id": "mMJI-O1qtjQv"
      }
    },
    {
      "cell_type": "code",
      "source": [
        "element=[2,4,67,4,2,7,5,3,2,7,9,89]\n",
        "print(reduce(lambda a,b:max(a,b),element))"
      ],
      "metadata": {
        "colab": {
          "base_uri": "https://localhost:8080/"
        },
        "id": "STaM56-PtT1o",
        "outputId": "ea3ec602-5559-4ad8-81b2-b2311ce5b6aa"
      },
      "execution_count": null,
      "outputs": [
        {
          "output_type": "stream",
          "name": "stdout",
          "text": [
            "89\n"
          ]
        }
      ]
    },
    {
      "cell_type": "markdown",
      "source": [
        "4. How can you use the `reduce()` function to concatenate a list of strings into a single string?\n"
      ],
      "metadata": {
        "id": "-isa0I2vuzX_"
      }
    },
    {
      "cell_type": "code",
      "source": [
        "list_of_string=['my','name','is','vishal']\n",
        "print(reduce(lambda a,b:a+b,list_of_string))"
      ],
      "metadata": {
        "colab": {
          "base_uri": "https://localhost:8080/"
        },
        "id": "2O5cuQ3NuP3p",
        "outputId": "a88c212a-bca7-4742-86d8-79492db801a9"
      },
      "execution_count": null,
      "outputs": [
        {
          "output_type": "stream",
          "name": "stdout",
          "text": [
            "mynameisvishal\n"
          ]
        }
      ]
    },
    {
      "cell_type": "markdown",
      "source": [
        "5. Write a Python program that calculates the factorial of a number using the `reduce()` function.\n"
      ],
      "metadata": {
        "id": "njhIFFafvzUi"
      }
    },
    {
      "cell_type": "code",
      "source": [
        "from functools import reduce\n",
        "def multiply(x, y):\n",
        "    return x * y\n",
        "def factorial(n):\n",
        "    return reduce(multiply, range(1, n + 1), 1)\n",
        "\n",
        "number = int(input(\"Enter a number: \"))\n",
        "result = factorial(number)\n",
        "print(f\"The factorial of {number} is: {result}\")\n"
      ],
      "metadata": {
        "colab": {
          "base_uri": "https://localhost:8080/"
        },
        "id": "KBnGBuGxvP6P",
        "outputId": "1794cda0-271a-49ee-f044-02d3e98482cf"
      },
      "execution_count": null,
      "outputs": [
        {
          "output_type": "stream",
          "name": "stdout",
          "text": [
            "Enter a number: 5\n",
            "The factorial of 5 is: 120\n"
          ]
        }
      ]
    },
    {
      "cell_type": "markdown",
      "source": [
        "6. Create a Python program that uses `reduce()` to find the GCD (Greatest Common Divisor) of a list\n",
        "of numbers"
      ],
      "metadata": {
        "id": "3fK_1jw9OTAS"
      }
    },
    {
      "cell_type": "code",
      "source": [
        "from functools import reduce\n",
        "import math\n",
        "\n",
        "def find_gcd(numbers):\n",
        "    result_gcd = reduce(math.gcd, numbers)\n",
        "    return result_gcd\n",
        "\n",
        "numbers_list = [12, 18, 24, 36]\n",
        "result = find_gcd(numbers_list)\n",
        "\n",
        "print(f\"GCD of {numbers_list} is: {result}\")\n"
      ],
      "metadata": {
        "id": "qpKl0woKwYNP",
        "colab": {
          "base_uri": "https://localhost:8080/"
        },
        "outputId": "1764b716-0b0a-466e-e653-1720b0aba7cb"
      },
      "execution_count": null,
      "outputs": [
        {
          "output_type": "stream",
          "name": "stdout",
          "text": [
            "GCD of [12, 18, 24, 36] is: 6\n"
          ]
        }
      ]
    },
    {
      "cell_type": "markdown",
      "source": [
        "7. Write a Python program that uses the `reduce()` function to find the sum of the digits of a given\n",
        "number.\n"
      ],
      "metadata": {
        "id": "bjBip121PGlK"
      }
    },
    {
      "cell_type": "code",
      "source": [
        "list1=[1,2,3,45,6,7,3,4]\n",
        "print(reduce(lambda a,b:a+b,list1))"
      ],
      "metadata": {
        "colab": {
          "base_uri": "https://localhost:8080/"
        },
        "id": "rcBlCb41OgbF",
        "outputId": "f8322ea8-433b-43d5-8495-43bda3bd8b35"
      },
      "execution_count": null,
      "outputs": [
        {
          "output_type": "stream",
          "name": "stdout",
          "text": [
            "71\n"
          ]
        }
      ]
    },
    {
      "cell_type": "markdown",
      "source": [
        "**Filter :-**\n",
        "1. Explain the purpose of the `filter()` function in Python and provide an example of how it can be\n",
        "used to filter elements from an iterable.\n"
      ],
      "metadata": {
        "id": "xBIIPI6HP6Xx"
      }
    },
    {
      "cell_type": "markdown",
      "source": [
        "**Answer-**Python filter() The filter() function selects elements from an iterable (list, tuple etc.) based on the output of a function. The function is applied to each element of the iterable and if it returns True , the element is selected by the filter() function."
      ],
      "metadata": {
        "id": "s_96-TDzvt_u"
      }
    },
    {
      "cell_type": "markdown",
      "source": [
        "2. Write a Python program that uses the `filter()` function to select even numbers from a list of\n",
        "integers."
      ],
      "metadata": {
        "id": "jegm76gDz2k_"
      }
    },
    {
      "cell_type": "code",
      "source": [
        "l=[1,2,3,4,5,6,7,8,9,10,11,12,13,14,15,16]\n",
        "s=list(filter(lambda a:a%2==0,l))\n",
        "print(s)"
      ],
      "metadata": {
        "id": "Nyihiz181IKG",
        "colab": {
          "base_uri": "https://localhost:8080/"
        },
        "outputId": "c4b541b4-cb33-4739-c6e8-e02aeb2914ec"
      },
      "execution_count": null,
      "outputs": [
        {
          "output_type": "stream",
          "name": "stdout",
          "text": [
            "[2, 4, 6, 8, 10, 12, 14, 16]\n"
          ]
        }
      ]
    },
    {
      "cell_type": "markdown",
      "source": [
        "3. Create a Python program that uses the `filter()` function to select names that start with a specific\n",
        "letter from a list of strings."
      ],
      "metadata": {
        "id": "Cs2sK45T3JKW"
      }
    },
    {
      "cell_type": "code",
      "source": [
        "def filter_names(starting_letter, names):\n",
        "    filtered_names = filter(lambda name: name.startswith(starting_letter), names)\n",
        "    return list(filtered_names)\n",
        "\n",
        "# Example usage:\n",
        "name_list = [\"Alice\", \"Bob\", \"Charlie\", \"David\", \"Eva\", \"Frank\"]\n",
        "selected_names = filter_names(\"C\", name_list)\n",
        "\n",
        "print(f\"Names starting with 'C': {selected_names}\")\n"
      ],
      "metadata": {
        "colab": {
          "base_uri": "https://localhost:8080/"
        },
        "id": "fkcLnnFM28Xm",
        "outputId": "a283eb2b-9a0a-41ca-b7f0-5caf2c21c95b"
      },
      "execution_count": null,
      "outputs": [
        {
          "output_type": "stream",
          "name": "stdout",
          "text": [
            "Names starting with 'C': ['Charlie']\n"
          ]
        }
      ]
    },
    {
      "cell_type": "markdown",
      "source": [
        "4. Write a Python program that uses the `filter()` function to select prime numbers from a list of\n",
        "integers.\n"
      ],
      "metadata": {
        "id": "iS6tvi5O5DvP"
      }
    },
    {
      "cell_type": "code",
      "source": [
        "def is_prime(n):\n",
        "    if n < 2:\n",
        "        return False\n",
        "    for i in range(2, int(n**0.5) + 1):\n",
        "        if n % i == 0:\n",
        "            return False\n",
        "    return True\n",
        "\n",
        "def filter_prime_numbers(numbers):\n",
        "    prime_numbers = filter(is_prime, numbers)\n",
        "    return list(prime_numbers)\n",
        "\n",
        "# Example usage:\n",
        "integer_list = [2, 3, 5, 7, 8, 11, 13, 17, 19, 23, 29, 31]\n",
        "prime_numbers = filter_prime_numbers(integer_list)\n",
        "\n",
        "print(f\"Prime numbers: {prime_numbers}\")\n"
      ],
      "metadata": {
        "colab": {
          "base_uri": "https://localhost:8080/"
        },
        "id": "OLZJ3nsU4bvX",
        "outputId": "1cdc9c2e-d1bd-47ed-8370-092f938ddaee"
      },
      "execution_count": null,
      "outputs": [
        {
          "output_type": "stream",
          "name": "stdout",
          "text": [
            "Prime numbers: [2, 3, 5, 7, 11, 13, 17, 19, 23, 29, 31]\n"
          ]
        }
      ]
    },
    {
      "cell_type": "code",
      "source": [],
      "metadata": {
        "id": "45xYVVoN5O5V"
      },
      "execution_count": null,
      "outputs": []
    },
    {
      "cell_type": "code",
      "source": [],
      "metadata": {
        "id": "3e-XcAaPmhPU"
      },
      "execution_count": null,
      "outputs": []
    },
    {
      "cell_type": "markdown",
      "source": [
        "**Recursion:-**\n",
        "1. Explain the concept of recursion in Python. How does it differ from iteration?"
      ],
      "metadata": {
        "id": "v0are6YrmiFU"
      }
    },
    {
      "cell_type": "markdown",
      "source": [
        "**Answer**- Recursion is the concept of recall the itself function again and again until the task excuite."
      ],
      "metadata": {
        "id": "UcvBFd2dmu_b"
      }
    },
    {
      "cell_type": "markdown",
      "source": [
        "2. Write a Python program to calculate the factorial of a number using recursion.\n"
      ],
      "metadata": {
        "id": "HvPwskUInIhs"
      }
    },
    {
      "cell_type": "code",
      "source": [
        "def factorial(n):\n",
        "  if n==0 or n==1:\n",
        "    return 1\n",
        "  else:\n",
        "    fact=n*factorial(n-1)\n",
        "  return fact\n",
        "n=int(input(\"Enter the number to know there factorial :\"))\n",
        "factorial(n)"
      ],
      "metadata": {
        "colab": {
          "base_uri": "https://localhost:8080/"
        },
        "id": "Ak3egi-EmoQs",
        "outputId": "9948c433-ce2a-4974-f0db-164165c7fa87"
      },
      "execution_count": null,
      "outputs": [
        {
          "name": "stdout",
          "output_type": "stream",
          "text": [
            "Enter the number to know there factorial :5\n"
          ]
        },
        {
          "output_type": "execute_result",
          "data": {
            "text/plain": [
              "120"
            ]
          },
          "metadata": {},
          "execution_count": 5
        }
      ]
    },
    {
      "cell_type": "markdown",
      "source": [
        "3. Create a recursive Python function to find the nth Fibonacci number"
      ],
      "metadata": {
        "id": "iVRjoh8yoqQM"
      }
    },
    {
      "cell_type": "code",
      "source": [
        "def fibo(n):\n",
        "  if n<=0:\n",
        "    print(\"Enter positive Number..!\")\n",
        "    return None\n",
        "  elif n ==1:\n",
        "    return 1\n",
        "  elif n==2:\n",
        "    return 1\n",
        "  else:\n",
        "    return fibo(n-1)+fibo(n-2)\n",
        "\n",
        "num=int(input(\"Enter a positive integer to find the nth fibonaci number\"))\n",
        "result=fibo(num)\n",
        "if result is not None:\n",
        "  print(f\"The {num}th Fibonacci number is :{result}\")"
      ],
      "metadata": {
        "colab": {
          "base_uri": "https://localhost:8080/"
        },
        "id": "WWmqjqGiqRL8",
        "outputId": "c956a829-6b3a-453e-df41-6aabcfe3c68c"
      },
      "execution_count": null,
      "outputs": [
        {
          "output_type": "stream",
          "name": "stdout",
          "text": [
            "Enter a positive integer to find the nth fibonaci number19\n",
            "The 19th Fibonacci number is :4181\n"
          ]
        }
      ]
    },
    {
      "cell_type": "markdown",
      "source": [
        "4. Write a recursive Python function to calculate the sum of all elements in a list."
      ],
      "metadata": {
        "id": "FIDJBdmTrJbs"
      }
    },
    {
      "cell_type": "code",
      "source": [
        "def sum(n):\n",
        "  if not n:\n",
        "    return 0\n",
        "  else:\n",
        "    return n[0]+sum(n[1:])\n",
        "\n",
        "list=[1,2,3,4,5]\n",
        "result=sum(list)\n",
        "print(f\"The sum of the element in the list is :{result}\")"
      ],
      "metadata": {
        "colab": {
          "base_uri": "https://localhost:8080/"
        },
        "id": "DBiJiVhdqj-1",
        "outputId": "a35eb429-87a3-453f-90d5-221844116306"
      },
      "execution_count": null,
      "outputs": [
        {
          "output_type": "stream",
          "name": "stdout",
          "text": [
            "The sum of the element in the list is :15\n"
          ]
        }
      ]
    },
    {
      "cell_type": "markdown",
      "source": [
        "5. How can you prevent a recursive function from running indefinitely, causing a stack overflow\n",
        "error?"
      ],
      "metadata": {
        "id": "6WCWrz6LtY18"
      }
    },
    {
      "cell_type": "markdown",
      "source": [
        "\n",
        "To prevent a recursive function from running indefinitely and causing a stack overflow error, you can follow these guidelines:\n",
        "\n",
        "**Define a Base Case:**\n",
        "Ensure that your recursive function has a base case or multiple base cases that determine when the recursion should stop. The base case represents the simplest scenario where the function does not make a recursive call and instead returns a specific value.\n",
        "\n",
        "**Ensure Progress Towards the Base Case:**\n",
        "Make sure that each recursive call brings the problem closer to the base case. If the recursive calls do not contribute to reducing the problem size, the function may enter an infinite loop.\n",
        "\n",
        "**Use Proper Stopping Conditions:**\n",
        "Check that the conditions in your base case are correctly defined. Ensure that the termination conditions are reachable and will eventually be satisfied during the recursive calls.\n",
        "\n",
        "Debugging and Testing:\n",
        "Test your recursive function with different inputs and verify that it terminates correctly. Debugging tools and techniques, such as print statements or a debugger, can help you understand the flow of recursion and identify issues."
      ],
      "metadata": {
        "id": "V_p3iQ2itdbM"
      }
    },
    {
      "cell_type": "markdown",
      "source": [
        "6. Create a recursive Python function to find the greatest common divisor (GCD) of two numbers\n",
        "using the Euclidean algorithm"
      ],
      "metadata": {
        "id": "Ej7-5EXmt0CF"
      }
    },
    {
      "cell_type": "code",
      "source": [
        "def euclidean_gcd(a, b):\n",
        "    if b == 0:\n",
        "        return a\n",
        "    else:\n",
        "        return euclidean_gcd(b, a % b)\n",
        "\n",
        "\n",
        "num1 = int(input(\"Enter the first number: \"))\n",
        "num2 = int(input(\"Enter the second number: \"))\n",
        "\n",
        "\n",
        "if num1 < 0 or num2 < 0:\n",
        "    print(\"Please enter non-negative integers.\")\n",
        "else:\n",
        "    result = euclidean_gcd(num1, num2)\n",
        "    print(f\"The GCD of {num1} and {num2} is: {result}\")\n"
      ],
      "metadata": {
        "colab": {
          "base_uri": "https://localhost:8080/"
        },
        "id": "mvMfUFw5saaN",
        "outputId": "07879018-98cb-4135-81eb-d7325455479f"
      },
      "execution_count": null,
      "outputs": [
        {
          "output_type": "stream",
          "name": "stdout",
          "text": [
            "Enter the first number: 50\n",
            "Enter the second number: 10\n",
            "The GCD of 50 and 10 is: 10\n"
          ]
        }
      ]
    },
    {
      "cell_type": "markdown",
      "source": [
        "7. Write a recursive Python function to reverse a string."
      ],
      "metadata": {
        "id": "9weRwtkJvCiL"
      }
    },
    {
      "cell_type": "code",
      "source": [
        "def reverse(string):\n",
        "  if len(string)<=0:\n",
        "    return string\n",
        "  else:\n",
        "    return reverse(string[1:])+string[0]\n",
        "\n",
        "word=input(\"Enter a word to reverse It :\")\n",
        "reverse(word)\n"
      ],
      "metadata": {
        "colab": {
          "base_uri": "https://localhost:8080/",
          "height": 53
        },
        "id": "4eb3w8uuubZ8",
        "outputId": "96d7e1ae-497d-407f-f984-5414240767a4"
      },
      "execution_count": null,
      "outputs": [
        {
          "name": "stdout",
          "output_type": "stream",
          "text": [
            "Enter a word to reverse It :maharastra\n"
          ]
        },
        {
          "output_type": "execute_result",
          "data": {
            "text/plain": [
              "'artsaraham'"
            ],
            "application/vnd.google.colaboratory.intrinsic+json": {
              "type": "string"
            }
          },
          "metadata": {},
          "execution_count": 26
        }
      ]
    },
    {
      "cell_type": "markdown",
      "source": [
        "8. Create a recursive Python function to calculate the power of a number (x^n)."
      ],
      "metadata": {
        "id": "7hwAfvC2wXTj"
      }
    },
    {
      "cell_type": "code",
      "source": [
        "def power(x,n):\n",
        "  if n==0:\n",
        "    return 1\n",
        "  else:\n",
        "    return x*power(x,n-1)\n",
        "\n",
        "num=int(input(\"Enter the base number \"))\n",
        "p=int(input(\"Enter the exponent \"))\n",
        "\n",
        "result=power(num,p)\n",
        "print(f\"{num}^{p} is :{result}\")"
      ],
      "metadata": {
        "colab": {
          "base_uri": "https://localhost:8080/"
        },
        "id": "AcuN8FIZwBgl",
        "outputId": "7172f285-fc3c-4cd7-d788-7f4c0679b5e4"
      },
      "execution_count": null,
      "outputs": [
        {
          "output_type": "stream",
          "name": "stdout",
          "text": [
            "Enter the base number 10\n",
            "Enter the exponent 3\n",
            "10^3 is :1000\n"
          ]
        }
      ]
    },
    {
      "cell_type": "markdown",
      "source": [
        "9. Write a recursive Python function to find all permutations of a given string."
      ],
      "metadata": {
        "id": "nKANh5C3xooZ"
      }
    },
    {
      "cell_type": "code",
      "source": [
        "def permutations(input_str):\n",
        "    # Base case: if the string has only one character or is empty,\n",
        "    # the only permutation is the string itself\n",
        "    if len(input_str) <= 1:\n",
        "        return [input_str]\n",
        "\n",
        "    # Recursive case: find permutations for the substring excluding the first character\n",
        "    perms = []\n",
        "    for i in range(len(input_str)):\n",
        "        first_char = input_str[i]\n",
        "        remaining_chars = input_str[:i] + input_str[i + 1:]\n",
        "        # Recursive call to find permutations of the remaining substring\n",
        "        for perm in permutations(remaining_chars):\n",
        "            perms.append(first_char + perm)\n",
        "\n",
        "    return perms\n",
        "\n",
        "# Example usage\n",
        "input_string = input(\"Enter a string: \")\n",
        "result = permutations(input_string)\n",
        "print(f\"All permutations of {input_string} are: {result}\")\n"
      ],
      "metadata": {
        "colab": {
          "base_uri": "https://localhost:8080/"
        },
        "id": "CoLXqhzzyD9R",
        "outputId": "597882ea-f07d-4b17-92dc-3c745e84e92a"
      },
      "execution_count": null,
      "outputs": [
        {
          "output_type": "stream",
          "name": "stdout",
          "text": [
            "Enter a string: abc\n",
            "All permutations of abc are: ['abc', 'acb', 'bac', 'bca', 'cab', 'cba']\n"
          ]
        }
      ]
    },
    {
      "cell_type": "markdown",
      "source": [
        "10. Write a recursive Python function to check if a string is a palindrome."
      ],
      "metadata": {
        "id": "tYK8lkINy-XF"
      }
    },
    {
      "cell_type": "code",
      "source": [
        "def is_palindrome(input_str):\n",
        "    if len(input_str) <= 1:\n",
        "        return True\n",
        "    else:\n",
        "        return input_str[0] == input_str[-1] and is_palindrome(input_str[1:-1])\n",
        "\n",
        "user_input = input(\"Enter a string: \")\n",
        "result = is_palindrome(user_input.lower())  # Convert to lowercase for case-insensitive comparison\n",
        "if result:\n",
        "    print(f\"{user_input} is a palindrome.\")\n",
        "else:\n",
        "    print(f\"{user_input} is not a palindrome.\")\n"
      ],
      "metadata": {
        "colab": {
          "base_uri": "https://localhost:8080/"
        },
        "id": "fbXz-6ffyVS0",
        "outputId": "136d0ffa-54f8-4156-bda3-3d67d4e47c9c"
      },
      "execution_count": null,
      "outputs": [
        {
          "output_type": "stream",
          "name": "stdout",
          "text": [
            "Enter a string: abcba\n",
            "abcba is a palindrome.\n"
          ]
        }
      ]
    },
    {
      "cell_type": "markdown",
      "source": [
        "11. Create a recursive Python function to generate all possible combinations of a list of elements.\n"
      ],
      "metadata": {
        "id": "46tcLqTC0LV_"
      }
    },
    {
      "cell_type": "code",
      "source": [
        "def generate_combinations(elements, r, current_combination=[], start=0):\n",
        "    # Base case: if the current combination has reached the desired length (r),\n",
        "    # add it to the list of combinations\n",
        "    if len(current_combination) == r:\n",
        "        return [current_combination[:]]\n",
        "\n",
        "    combinations = []\n",
        "\n",
        "    # Recursive case: explore combinations starting from each index\n",
        "    for i in range(start, len(elements)):\n",
        "        # Include the current element in the combination\n",
        "        current_combination.append(elements[i])\n",
        "\n",
        "        # Recursively generate combinations for the remaining elements\n",
        "        combinations.extend(\n",
        "            generate_combinations(elements, r, current_combination, i + 1)\n",
        "        )\n",
        "\n",
        "        # Backtrack: remove the last element to explore other combinations\n",
        "        current_combination.pop()\n",
        "\n",
        "    return combinations\n",
        "\n",
        "# Example usage\n",
        "input_list = input(\"Enter elements separated by spaces: \").split()\n",
        "r = int(input(\"Enter the length of combinations (r): \"))\n",
        "\n",
        "combinations = generate_combinations(input_list, r)\n",
        "print(f\"All combinations of length {r} are: {combinations}\")\n"
      ],
      "metadata": {
        "colab": {
          "base_uri": "https://localhost:8080/"
        },
        "id": "tJYjAUN51VaU",
        "outputId": "7c9c5811-3ef6-4c30-ade3-8373973fb4a3"
      },
      "execution_count": null,
      "outputs": [
        {
          "output_type": "stream",
          "name": "stdout",
          "text": [
            "Enter elements separated by spaces: 1234\n",
            "Enter the length of combinations (r): 3\n",
            "All combinations of length 3 are: []\n"
          ]
        }
      ]
    },
    {
      "cell_type": "markdown",
      "source": [
        "**Basics of Functions:**\n",
        "1. What is a function in Python, and why is it used?"
      ],
      "metadata": {
        "id": "YdTcjPgzjhBd"
      }
    },
    {
      "cell_type": "markdown",
      "source": [
        "In Python, a function is a block of reusable code that performs a specific task. Functions are defined using the def keyword, followed by the function name, a pair of parentheses, and a colon. The body of the function is then indented.\n",
        "\n",
        "Here's a basic syntax of a function in Python:"
      ],
      "metadata": {
        "id": "IgaFsE3Pj8zd"
      }
    },
    {
      "cell_type": "code",
      "source": [
        "def my_function(arg1, arg2):\n",
        "    # function body\n",
        "    result = arg1 + arg2\n",
        "    return result\n"
      ],
      "metadata": {
        "id": "zMCSp1xw1iX5"
      },
      "execution_count": null,
      "outputs": []
    },
    {
      "cell_type": "markdown",
      "source": [
        "Functions are used in Python for several reasons:\n",
        "\n",
        "Code Reusability: Functions allow you to define a block of code once and use it multiple times throughout your program. This promotes code reuse, making your code more modular and easier to maintain.\n",
        "\n",
        "Abstraction: Functions provide a way to abstract away the details of how a certain task is accomplished. When you call a function, you don't need to know the internal implementation details; you only need to know what the function does and what inputs it requires.\n",
        "\n",
        "Readability: Breaking down your code into smaller, well-defined functions makes it more readable and easier to understand. Each function can represent a specific action or task, contributing to a clearer overall structure.\n",
        "\n",
        "Testing and Debugging: Functions make it easier to test and debug your code. Since functions isolate specific pieces of functionality, you can focus on testing and debugging individual functions without affecting the rest of the program.\n",
        "\n",
        "Parameterization: Functions can take parameters (inputs) and return values (outputs). This parameterization allows you to make your functions more flexible and adaptable to different situations."
      ],
      "metadata": {
        "id": "5wn_ypABkHAl"
      }
    },
    {
      "cell_type": "code",
      "source": [
        "# Function definition\n",
        "def greet(name):\n",
        "    return f\"Hello, {name}!\"\n",
        "\n",
        "# Function call\n",
        "result = greet(\"Vishal\")\n",
        "print(result)\n"
      ],
      "metadata": {
        "colab": {
          "base_uri": "https://localhost:8080/"
        },
        "id": "oKxzcm7Bj_XH",
        "outputId": "6344d0aa-f1f8-4346-cc7e-5494b1e91680"
      },
      "execution_count": null,
      "outputs": [
        {
          "output_type": "stream",
          "name": "stdout",
          "text": [
            "Hello, Vishal!\n"
          ]
        }
      ]
    },
    {
      "cell_type": "markdown",
      "source": [
        "2. How do you define a function in Python? Provide an example."
      ],
      "metadata": {
        "id": "pjp_a7tDkWJt"
      }
    },
    {
      "cell_type": "markdown",
      "source": [
        "**Answer**- In Python, you can define a function using the def keyword, followed by the function name, a pair of parentheses (which may contain parameters), and a colon. The body of the function is indented to indicate the code block belonging to the function. Here's a simple example:"
      ],
      "metadata": {
        "id": "8r30_hcAkiaV"
      }
    },
    {
      "cell_type": "code",
      "source": [
        "# Function definition\n",
        "def greet(name):\n",
        "    \"\"\"This function takes a name as a parameter and returns a greeting.\"\"\"\n",
        "    greeting = f\"Hello, {name}!\"\n",
        "    return greeting\n",
        "\n",
        "# Function call\n",
        "result = greet(\"Vishal\")\n",
        "\n",
        "# Print the result\n",
        "print(result)\n"
      ],
      "metadata": {
        "colab": {
          "base_uri": "https://localhost:8080/"
        },
        "id": "72dIKGK6kKIV",
        "outputId": "f6ff533d-4cda-4734-a7e6-0806c336e87c"
      },
      "execution_count": null,
      "outputs": [
        {
          "output_type": "stream",
          "name": "stdout",
          "text": [
            "Hello, Vishal!\n"
          ]
        }
      ]
    },
    {
      "cell_type": "markdown",
      "source": [
        "3. Explain the difference between a function definition and a function call.\n"
      ],
      "metadata": {
        "id": "ySBeV9Eek1oV"
      }
    },
    {
      "cell_type": "markdown",
      "source": [
        "**Answer--**Function Definition:\n",
        "\n",
        "What it is: A function definition is the block of code that specifies how a function works. It includes the function name, parameters (if any), a docstring (optional), and the body of the function.\n",
        "Syntax: It starts with the def keyword, followed by the function name, parameters (enclosed in parentheses), a colon, and the indented block of code that constitutes the function body."
      ],
      "metadata": {
        "id": "4r8SNVxMk8GF"
      }
    },
    {
      "cell_type": "code",
      "source": [
        "def greet(name):\n",
        "    \"\"\"This function takes a name as a parameter and returns a greeting.\"\"\"\n",
        "    greeting = f\"Hello, {name}!\"\n",
        "    return greeting\n"
      ],
      "metadata": {
        "id": "UwOX1ZyPknyF"
      },
      "execution_count": null,
      "outputs": []
    },
    {
      "cell_type": "markdown",
      "source": [
        "Purpose: The function definition provides the blueprint for what the function does when called. It defines the inputs (parameters) the function expects and the actions it performs.\n",
        "Function Call:\n",
        "\n",
        "What it is: A function call is the act of using a function in your code. It involves invoking the function and passing actual values (arguments) for the parameters defined in the function. When a function is called, the code inside its body is executed.\n",
        "Syntax: It consists of the function name followed by parentheses containing the arguments (if any) to be passed to the function."
      ],
      "metadata": {
        "id": "jUZiQTBblLGl"
      }
    },
    {
      "cell_type": "code",
      "source": [
        "result = greet(\"John\")\n"
      ],
      "metadata": {
        "id": "tHSFJCO0lKCt"
      },
      "execution_count": null,
      "outputs": []
    },
    {
      "cell_type": "markdown",
      "source": [
        "4. Write a Python program that defines a function to calculate the sum of two numbers and then\n",
        "calls the function"
      ],
      "metadata": {
        "id": "IyrMI5c8lTxl"
      }
    },
    {
      "cell_type": "code",
      "source": [
        "def cal(a,b):\n",
        "  return a+b\n",
        "\n",
        "num1=int(input(\"Enter the first Num :\"))\n",
        "num2=int(input(\"Enter thr second Num :\"))\n",
        "result=cal(num1,num2)\n",
        "print(f\"the sum {num1}+{num2} = {result}\")"
      ],
      "metadata": {
        "colab": {
          "base_uri": "https://localhost:8080/"
        },
        "id": "0HHW7mdrlQ8F",
        "outputId": "8bfe352f-b081-49f7-9def-5fa94eaa9844"
      },
      "execution_count": null,
      "outputs": [
        {
          "output_type": "stream",
          "name": "stdout",
          "text": [
            "Enter the first Num :6\n",
            "Enter thr second Num :3\n",
            "the sum 6+3 = 9\n"
          ]
        }
      ]
    },
    {
      "cell_type": "markdown",
      "source": [
        "5. What is a function signature, and what information does it typically include?"
      ],
      "metadata": {
        "id": "FwH0EkEBmOi-"
      }
    },
    {
      "cell_type": "markdown",
      "source": [
        "**Answer-**A function signature consists of the function prototype. It specifies the general information about a function like the name, scope and parameters. Many programming languages use name mangling in order to pass along more semantic information from the compilers to the linkers."
      ],
      "metadata": {
        "id": "zJc7NLeemeYm"
      }
    },
    {
      "cell_type": "markdown",
      "source": [
        "6. Create a Python function that takes two arguments and returns their product."
      ],
      "metadata": {
        "id": "kQF7lFbXmlTH"
      }
    },
    {
      "cell_type": "code",
      "source": [
        "def product(a,b):\n",
        "  return a*b\n",
        "num1=int(input(\"Enter the first Num :\"))\n",
        "num2=int(input(\"Enter thr second Num :\"))\n",
        "result=product(num1,num2)\n",
        "print(f\"the sum {num1}x{num2} = {result}\")\n"
      ],
      "metadata": {
        "colab": {
          "base_uri": "https://localhost:8080/"
        },
        "id": "gPqmtCyxmBcm",
        "outputId": "ff20ce16-8b66-4e52-e605-fd779dd4ca7c"
      },
      "execution_count": null,
      "outputs": [
        {
          "output_type": "stream",
          "name": "stdout",
          "text": [
            "Enter the first Num :5\n",
            "Enter thr second Num :4\n",
            "the sum 5x4 = 20\n"
          ]
        }
      ]
    },
    {
      "cell_type": "markdown",
      "source": [
        "Function Parameters and Arguments:\n",
        "1. Explain the concepts of formal parameters and actual arguments in Python functions."
      ],
      "metadata": {
        "id": "uUpP8SrPnBfl"
      }
    },
    {
      "cell_type": "markdown",
      "source": [
        "Actual Parameters vary from Formal Parameters in that Actual Parameters are values supplied to the function when it is invoked, whereas Formal Parameters are variables declared by the function that get values when the function is called."
      ],
      "metadata": {
        "id": "r3KAnGRxnLht"
      }
    },
    {
      "cell_type": "markdown",
      "source": [
        "2. Write a Python program that defines a function with default argument values."
      ],
      "metadata": {
        "id": "zeB2OnnmnUaF"
      }
    },
    {
      "cell_type": "code",
      "source": [
        "def default_function(a=10,b=5):\n",
        "  return a+b\n",
        "\n",
        "sum=default_function()\n",
        "print(f\"the sum of two number is : {sum}\")"
      ],
      "metadata": {
        "colab": {
          "base_uri": "https://localhost:8080/"
        },
        "id": "w1OgZs1amyCG",
        "outputId": "4369fa11-eea9-4907-bd9c-104172400498"
      },
      "execution_count": null,
      "outputs": [
        {
          "output_type": "stream",
          "name": "stdout",
          "text": [
            "the sum of two number is : 15\n"
          ]
        }
      ]
    },
    {
      "cell_type": "markdown",
      "source": [
        "3. How do you use keyword arguments in Python function calls? Provide an example"
      ],
      "metadata": {
        "id": "ohfMPOHRpDZ2"
      }
    },
    {
      "cell_type": "markdown",
      "source": [
        "**Answer-**In Python, keyword arguments allow you to pass values to a function by explicitly specifying the parameter names along with their corresponding values. This can make the function call more readable and allows you to pass arguments in a different order than they are defined in the function signature."
      ],
      "metadata": {
        "id": "83pIQnmGpzNe"
      }
    },
    {
      "cell_type": "code",
      "source": [
        "def greet(name, greeting=\"Hello\", punctuation=\".\"):\n",
        "    full_greeting = f\"{greeting}, {name}{punctuation}\"\n",
        "    return full_greeting\n",
        "\n",
        "result1 = greet(\"Vishal\")\n",
        "result2 = greet(\"Shubham\", greeting=\"Hi\")\n",
        "result3 = greet(\"Ram\", punctuation=\"!\")\n",
        "\n",
        "\n",
        "print(result1)\n",
        "print(result2)\n",
        "print(result3)\n"
      ],
      "metadata": {
        "colab": {
          "base_uri": "https://localhost:8080/"
        },
        "id": "CrlhxrkJoX3l",
        "outputId": "e31d080e-a781-48fe-ac2c-093dc4ff40d2"
      },
      "execution_count": null,
      "outputs": [
        {
          "output_type": "stream",
          "name": "stdout",
          "text": [
            "Hello, Vishal.\n",
            "Hi, Shubham.\n",
            "Hello, Ram!\n"
          ]
        }
      ]
    },
    {
      "cell_type": "markdown",
      "source": [
        "4. Create a Python function that accepts a variable number of arguments and calculates their sum."
      ],
      "metadata": {
        "id": "6QqS5XjNqjCX"
      }
    },
    {
      "cell_type": "code",
      "source": [
        "def calculate_sum(*args):\n",
        "     s=0\n",
        "     for i in args:\n",
        "      s=s+i\n",
        "     return s\n",
        "\n",
        "\n",
        "result1 = calculate_sum(1, 2, 3)\n",
        "result2 = calculate_sum(4, 5, 6, 7)\n",
        "result3 = calculate_sum(10, 20, 30, 40, 50)\n",
        "\n",
        "print(result1)\n",
        "print(result2)\n",
        "print(result3)\n"
      ],
      "metadata": {
        "colab": {
          "base_uri": "https://localhost:8080/"
        },
        "id": "vzu_f26uqLqm",
        "outputId": "98e559be-6742-481d-8935-277262f29b33"
      },
      "execution_count": null,
      "outputs": [
        {
          "output_type": "stream",
          "name": "stdout",
          "text": [
            "6\n",
            "22\n",
            "150\n"
          ]
        }
      ]
    },
    {
      "cell_type": "markdown",
      "source": [
        "5. What is the purpose of the `*args` and `**kwargs` syntax in function parameter lists?"
      ],
      "metadata": {
        "id": "VeFzsrBCsZw1"
      }
    },
    {
      "cell_type": "markdown",
      "source": [
        "**Answer-** *args and **kwargs are special keyword which allows function to take variable length argument. *args passes variable number of non-keyworded arguments and on which operation of the tuple can be performed."
      ],
      "metadata": {
        "id": "AlOtQMI3scTe"
      }
    },
    {
      "cell_type": "markdown",
      "source": [
        "**Return Values and Scoping:**\n",
        "1. Describe the role of the `return` statement in Python functions and provide examples."
      ],
      "metadata": {
        "id": "bceKXQHiv_Uv"
      }
    },
    {
      "cell_type": "markdown",
      "source": [
        "**Answer-**The Python return statement is a key component of functions and methods. You can use the return statement to make your functions send Python objects back to the caller code. These objects are known as the function's return value. You can use them to perform further computation in your programs."
      ],
      "metadata": {
        "id": "VpDOF544wMOm"
      }
    },
    {
      "cell_type": "markdown",
      "source": [
        "2. Explain the concept of variable scope in Python, including local and global variables."
      ],
      "metadata": {
        "id": "VmYZw_4EwRtO"
      }
    },
    {
      "cell_type": "markdown",
      "source": [
        "**Answer-**Python Global variables are those which are not defined inside any function and have a global scope whereas Python local variables are those which are defined inside a function and their scope is limited to that function only."
      ],
      "metadata": {
        "id": "5rq5Sb3MwZIG"
      }
    },
    {
      "cell_type": "markdown",
      "source": [
        "3. Write a Python program that demonstrates the use of global variables within functions."
      ],
      "metadata": {
        "id": "4GujKo97wfSG"
      }
    },
    {
      "cell_type": "code",
      "source": [
        "# Global variable\n",
        "global_variable = 10\n",
        "\n",
        "# Function that modifies the global variable\n",
        "def modify_global():\n",
        "    global global_variable\n",
        "    global_variable += 5\n",
        "    print(\"Inside the function:\", global_variable)\n",
        "\n",
        "# Function that uses the global variable without modification\n",
        "def use_global():\n",
        "    print(\"Inside another function:\", global_variable)\n",
        "\n",
        "# Print the global variable before function calls\n",
        "print(\"Before function calls:\", global_variable)\n",
        "\n",
        "# Call the function that modifies the global variable\n",
        "modify_global()\n",
        "\n",
        "# Call the function that uses the global variable\n",
        "use_global()\n",
        "print(\"After function calls:\", global_variable)\n"
      ],
      "metadata": {
        "colab": {
          "base_uri": "https://localhost:8080/"
        },
        "id": "BabZp9UurI_F",
        "outputId": "99586d9a-450a-4811-9ad8-2edf3e24f45d"
      },
      "execution_count": null,
      "outputs": [
        {
          "output_type": "stream",
          "name": "stdout",
          "text": [
            "Before function calls: 10\n",
            "Inside the function: 15\n",
            "Inside another function: 15\n",
            "After function calls: 15\n"
          ]
        }
      ]
    },
    {
      "cell_type": "markdown",
      "source": [
        "4. Create a Python function that calculates the factorial of a number and returns it.\n"
      ],
      "metadata": {
        "id": "twDaJ8sZwx-m"
      }
    },
    {
      "cell_type": "code",
      "source": [
        "def fac(n):\n",
        "  if n<=1:\n",
        "    return n\n",
        "  else:\n",
        "    s=1\n",
        "    for i in range(2,n+1):\n",
        "      s=i*s\n",
        "    return s\n",
        "\n",
        "fac(5)\n"
      ],
      "metadata": {
        "colab": {
          "base_uri": "https://localhost:8080/"
        },
        "id": "K7-m8RZWwq74",
        "outputId": "ffb103e8-f3d6-4503-e2a3-a3c598f13295"
      },
      "execution_count": null,
      "outputs": [
        {
          "output_type": "execute_result",
          "data": {
            "text/plain": [
              "120"
            ]
          },
          "metadata": {},
          "execution_count": 54
        }
      ]
    },
    {
      "cell_type": "markdown",
      "source": [
        "5. How can you access variables defined outside a function from within the function?"
      ],
      "metadata": {
        "id": "PFFemSA3ywEI"
      }
    },
    {
      "cell_type": "markdown",
      "source": [
        "**Answer=** In Python, you can access variables defined outside a function from within the function by using the global keyword or by simply referencing the variable directly if it is not being modified within the function. Here are the two methods:\n",
        "\n",
        "**Using the global Keyword:**\n",
        "\n",
        "**Referencing the Variable Directly (Read-Only):**"
      ],
      "metadata": {
        "id": "Dm_Ns20zzCFP"
      }
    },
    {
      "cell_type": "code",
      "source": [
        "global_variable = 10\n",
        "\n",
        "def modify_global():\n",
        "    global global_variable\n",
        "    global_variable += 5\n",
        "    print(\"Inside the function:\", global_variable)\n",
        "\n",
        "# Call the function\n",
        "modify_global()\n",
        "\n",
        "# Print the global variable outside the function\n",
        "print(\"Outside the function:\", global_variable)\n"
      ],
      "metadata": {
        "colab": {
          "base_uri": "https://localhost:8080/"
        },
        "id": "O_xlkzpFxZxe",
        "outputId": "a81fa3bb-a93f-48ea-cb26-e71b1ef15606"
      },
      "execution_count": null,
      "outputs": [
        {
          "output_type": "stream",
          "name": "stdout",
          "text": [
            "Inside the function: 15\n",
            "Outside the function: 15\n"
          ]
        }
      ]
    },
    {
      "cell_type": "markdown",
      "source": [
        "Lambda Functions and Higher-Order Functions:\n",
        "1. What are lambda functions in Python, and when are they typically used?"
      ],
      "metadata": {
        "id": "kRxL28HJ9wmM"
      }
    },
    {
      "cell_type": "markdown",
      "source": [
        "Python Lambda Functions are anonymous functions means that the function is without a name. As we already know the def keyword is used to define a normal function in Python. Similarly, the lambda keyword is used to define an anonymous function in Python."
      ],
      "metadata": {
        "id": "_qxXc5QW-Hvj"
      }
    },
    {
      "cell_type": "markdown",
      "source": [
        "2. Write a Python program that uses lambda functions to sort a list of tuples based on the second\n",
        "element.\n"
      ],
      "metadata": {
        "id": "pfYfslrl-LWd"
      }
    },
    {
      "cell_type": "code",
      "source": [
        "list_of_tuples = [(1, 4), (3, 1), (5, 6), (2, 8)]\n",
        "sorted_list = sorted(list_of_tuples, key=lambda x: x[1])\n",
        "print(\"Original list of tuples:\", list_of_tuples)\n",
        "print(\"Sorted list based on the second element:\", sorted_list)\n"
      ],
      "metadata": {
        "id": "99bzsdz5zWT2",
        "colab": {
          "base_uri": "https://localhost:8080/"
        },
        "outputId": "924c17e6-7536-4e88-fd9b-38a13fae7409"
      },
      "execution_count": 1,
      "outputs": [
        {
          "output_type": "stream",
          "name": "stdout",
          "text": [
            "Original list of tuples: [(1, 4), (3, 1), (5, 6), (2, 8)]\n",
            "Sorted list based on the second element: [(3, 1), (1, 4), (5, 6), (2, 8)]\n"
          ]
        }
      ]
    },
    {
      "cell_type": "markdown",
      "source": [
        "3. Explain the concept of higher-order functions in Python, and provide an example."
      ],
      "metadata": {
        "id": "KZGhNUkg-1FT"
      }
    },
    {
      "cell_type": "markdown",
      "source": [
        "**Answer-**In Python, a higher-order function is a function that can take other functions as arguments, or return functions as results. This concept is based on the idea that functions are first-class citizens in Python, meaning they can be treated as objects, assigned to variables, passed as arguments, and returned as values."
      ],
      "metadata": {
        "id": "_ayVR4T9_Foq"
      }
    },
    {
      "cell_type": "code",
      "source": [
        "# Example of a higher-order function\n",
        "def apply_operation(operation, x, y):\n",
        "    \"\"\"\n",
        "    Apply the specified operation on two operands.\n",
        "    :param operation: A function that takes two arguments and performs a specific operation.\n",
        "    :param x: The first operand.\n",
        "    :param y: The second operand.\n",
        "    :return: The result of applying the operation on x and y.\n",
        "    \"\"\"\n",
        "    return operation(x, y)\n",
        "\n",
        "# Example operations that can be passed to the higher-order function\n",
        "def add(x, y):\n",
        "    return x + y\n",
        "\n",
        "def multiply(x, y):\n",
        "    return x * y\n",
        "\n",
        "def power(x, y):\n",
        "    return x ** y\n",
        "\n",
        "# Using the higher-order function with different operations\n",
        "result_addition = apply_operation(add, 5, 3)\n",
        "result_multiplication = apply_operation(multiply, 4, 2)\n",
        "result_power = apply_operation(power, 2, 3)\n",
        "\n",
        "# Displaying the results\n",
        "print(\"Result of addition:\", result_addition)\n",
        "print(\"Result of multiplication:\", result_multiplication)\n",
        "print(\"Result of power operation:\", result_power)\n"
      ],
      "metadata": {
        "colab": {
          "base_uri": "https://localhost:8080/"
        },
        "id": "LdZcX_5i-r4U",
        "outputId": "7dba611c-5f6b-4b50-b26a-bd59f94fb980"
      },
      "execution_count": 3,
      "outputs": [
        {
          "output_type": "stream",
          "name": "stdout",
          "text": [
            "Result of addition: 8\n",
            "Result of multiplication: 8\n",
            "Result of power operation: 8\n"
          ]
        }
      ]
    },
    {
      "cell_type": "markdown",
      "source": [
        "4. Create a Python function that takes a list of numbers and a function as arguments, applying the\n",
        "function to each element in the list.\n"
      ],
      "metadata": {
        "id": "f1-fDHuI_SYC"
      }
    },
    {
      "cell_type": "code",
      "source": [
        "def apply_function_to_list(numbers, func):\n",
        "    \"\"\"\n",
        "    Apply the specified function to each element in the list.\n",
        "    :param numbers: A list of numbers.\n",
        "    :param func: A function to apply to each element in the list.\n",
        "    :return: A new list containing the results of applying the function to each element.\n",
        "    \"\"\"\n",
        "    return [func(x) for x in numbers]\n",
        "\n",
        "# Example functions that can be passed to the apply_function_to_list\n",
        "def square(x):\n",
        "    return x ** 2\n",
        "\n",
        "def double(x):\n",
        "    return x * 2\n",
        "\n",
        "def increment(x):\n",
        "    return x + 1\n",
        "\n",
        "# Example list of numbers\n",
        "numbers_list = [1, 2, 3, 4, 5]\n",
        "\n",
        "# Applying functions to the list\n",
        "result_square = apply_function_to_list(numbers_list, square)\n",
        "result_double = apply_function_to_list(numbers_list, double)\n",
        "result_increment = apply_function_to_list(numbers_list, increment)\n",
        "\n",
        "# Displaying the results\n",
        "print(\"Original list of numbers:\", numbers_list)\n",
        "print(\"Result after squaring each element:\", result_square)\n",
        "print(\"Result after doubling each element:\", result_double)\n",
        "print(\"Result after incrementing each element:\", result_increment)\n"
      ],
      "metadata": {
        "colab": {
          "base_uri": "https://localhost:8080/"
        },
        "id": "-j7Zn2Lp_Jni",
        "outputId": "ca85b3f6-9b26-4152-b7c9-f85a0c4d747a"
      },
      "execution_count": 4,
      "outputs": [
        {
          "output_type": "stream",
          "name": "stdout",
          "text": [
            "Original list of numbers: [1, 2, 3, 4, 5]\n",
            "Result after squaring each element: [1, 4, 9, 16, 25]\n",
            "Result after doubling each element: [2, 4, 6, 8, 10]\n",
            "Result after incrementing each element: [2, 3, 4, 5, 6]\n"
          ]
        }
      ]
    },
    {
      "cell_type": "markdown",
      "source": [
        "**Built-in Functions:**\n",
        "1. Describe the role of built-in functions like `len()`, `max()`, and `min()` in Python.\n"
      ],
      "metadata": {
        "id": "E77nMIqJ_fyb"
      }
    },
    {
      "cell_type": "markdown",
      "source": [
        "**Answer-**\n",
        "1. len() :- This function returns the length of list.\n",
        "2. min() :- This function returns the minimum element of list.\n",
        "3. max() :- this function return the maximum element of list."
      ],
      "metadata": {
        "id": "olDOKOna_n3y"
      }
    },
    {
      "cell_type": "markdown",
      "source": [
        "2. Write a Python program that uses the `map()` function to apply a function to each element of a\n",
        "list."
      ],
      "metadata": {
        "id": "IcOtSoQHABt1"
      }
    },
    {
      "cell_type": "code",
      "source": [
        "\n",
        "def square(x):\n",
        "    return x ** 2\n",
        "\n",
        "# Example list of numbers\n",
        "numbers_list = [1, 2, 3, 4, 5]\n",
        "\n",
        "# Using map() to apply the function to each element in the list\n",
        "result_square = list(map(square, numbers_list))\n",
        "\n",
        "# Displaying the results\n",
        "print(\"Original list of numbers:\", numbers_list)\n",
        "print(\"Result after squaring each element using map():\", result_square)\n"
      ],
      "metadata": {
        "colab": {
          "base_uri": "https://localhost:8080/"
        },
        "id": "DvA1u1e6_b50",
        "outputId": "2f553940-4ec7-428a-fd2c-8f7b3d5b7d9c"
      },
      "execution_count": 5,
      "outputs": [
        {
          "output_type": "stream",
          "name": "stdout",
          "text": [
            "Original list of numbers: [1, 2, 3, 4, 5]\n",
            "Result after squaring each element using map(): [1, 4, 9, 16, 25]\n"
          ]
        }
      ]
    },
    {
      "cell_type": "markdown",
      "source": [
        "3. How does the `filter()` function work in Python, and when would you use it?"
      ],
      "metadata": {
        "id": "N8DEfLkpAhQa"
      }
    },
    {
      "cell_type": "markdown",
      "source": [
        "**Answer-** Filter() is a built-in function in Python. The filter function can be applied to an iterable such as a list or a dictionary and create a new iterator. This new iterator can filter out certain specific elements based on the condition that you provide very efficiently."
      ],
      "metadata": {
        "id": "7IZ9KtytAl4D"
      }
    },
    {
      "cell_type": "markdown",
      "source": [
        "4. Create a Python program that uses the `reduce()` function to find the product of all elements in\n",
        "a list.\n"
      ],
      "metadata": {
        "id": "UfAot-KsAsBK"
      }
    },
    {
      "cell_type": "code",
      "source": [
        "from functools import reduce\n",
        "def multiply(x, y):\n",
        "    return x * y\n",
        "numbers_list = [1, 2, 3, 4, 5]\n",
        "product = reduce(multiply, numbers_list)\n",
        "print(\"Original list of numbers:\", numbers_list)\n",
        "print(\"Product of all elements using reduce():\", product)\n"
      ],
      "metadata": {
        "colab": {
          "base_uri": "https://localhost:8080/"
        },
        "id": "YxICmlxkAzFi",
        "outputId": "238ffa8b-4d6a-4a9e-bfc8-18d5096fb286"
      },
      "execution_count": 6,
      "outputs": [
        {
          "output_type": "stream",
          "name": "stdout",
          "text": [
            "Original list of numbers: [1, 2, 3, 4, 5]\n",
            "Product of all elements using reduce(): 120\n"
          ]
        }
      ]
    },
    {
      "cell_type": "markdown",
      "source": [
        "**Function Documentation and Best Practices:**\n",
        "1. Explain the purpose of docstrings in Python functions and how to write them."
      ],
      "metadata": {
        "id": "CysTlNoiA8P6"
      }
    },
    {
      "cell_type": "markdown",
      "source": [
        "**Answer- **Docstrings in Python Functions:\n",
        "\n",
        "A docstring in Python is a string literal that occurs as the first statement in a module, function, class, or method definition. Its primary purpose is to provide documentation for the code. Docstrings serve as a way to describe the purpose, usage, and behavior of a function or module, making it easier for developers to understand and use the code. Properly documented code is more maintainable, and docstrings contribute to code readability and self-documentation.\n",
        "\n",
        "How to Write Docstrings:\n",
        "\n",
        "Docstrings are enclosed in triple quotes (''' or \"\"\"). They can be single-line or multi-line, depending on the complexity of the documentation."
      ],
      "metadata": {
        "id": "L_R9s2PXBLdS"
      }
    },
    {
      "cell_type": "code",
      "source": [
        "def add_numbers(a, b):\n",
        "    \"\"\"\n",
        "    This function takes two numbers as input and returns their sum.\n",
        "\n",
        "    Parameters:\n",
        "    a (int): The first number.\n",
        "    b (int): The second number.\n",
        "\n",
        "    Returns:\n",
        "    int: The sum of the two input numbers.\n",
        "    \"\"\"\n",
        "    return a + b\n"
      ],
      "metadata": {
        "id": "Cwmznw8SA5br"
      },
      "execution_count": 7,
      "outputs": []
    },
    {
      "cell_type": "markdown",
      "source": [],
      "metadata": {
        "id": "Osv44fIkBSrC"
      }
    },
    {
      "cell_type": "markdown",
      "source": [
        "2.Describe some best practices for naming functions and variables in Python, including naming conventions and guidelines:"
      ],
      "metadata": {
        "id": "jaM5etWIBcC7"
      }
    },
    {
      "cell_type": "markdown",
      "source": [
        "Function Naming Conventions:\n",
        "Use Descriptive Names:\n",
        "\n",
        "Choose names that clearly convey the purpose of the function.\n",
        "Avoid single-letter or cryptic names unless they are widely understood abbreviations (e.g., i for an index in a loop).\n",
        "Follow PEP 8:\n",
        "\n",
        "Adhere to the PEP 8 style guide for Python code.\n",
        "Function names should be lowercase with words separated by underscores (snake_case).\n",
        "Use a verb to indicate the action performed by the function (e.g., calculate_average, get_user_input).\n",
        "Be Consistent:\n",
        "\n",
        "Maintain a consistent naming style throughout your codebase.\n",
        "Avoid Python Keywords:\n",
        "\n",
        "Do not use Python reserved words as function names.\n",
        "Variable Naming Conventions:\n",
        "Use Descriptive and Meaningful Names:\n",
        "\n",
        "Choose variable names that clearly indicate the purpose or content of the variable.\n",
        "Avoid generic names like temp, x, or data.\n",
        "Follow PEP 8:\n",
        "\n",
        "Variable names should be lowercase with words separated by underscores (snake_case).\n",
        "Use meaningful names instead of single-character names.\n",
        "Be Consistent:\n",
        "\n",
        "Consistency in naming conventions makes the code more readable.\n",
        "Guidelines for Both Functions and Variables:\n",
        "Avoid Abbreviations (Except Common Ones):\n",
        "\n",
        "Prefer full, descriptive words over abbreviations, unless the abbreviation is widely known and accepted (e.g., URL, HTML).\n",
        "Use Nouns for Variables, Verbs for Functions:\n",
        "\n",
        "Variables represent things, so use nouns (e.g., user_name, total_amount).\n",
        "Functions perform actions, so use verbs (e.g., calculate_total, validate_input).\n",
        "Follow Domain-Specific Conventions:\n",
        "\n",
        "In some cases, it may be beneficial to follow domain-specific naming conventions if they are commonly understood in your field or project.\n",
        "Use CamelCase for Classes:\n",
        "\n",
        "If you define classes, use CamelCase (capitalize the first letter of each word without spaces) for class names (e.g., MyClass)."
      ],
      "metadata": {
        "id": "X01hiJt1Bwa6"
      }
    },
    {
      "cell_type": "code",
      "source": [],
      "metadata": {
        "id": "zzhdjqo2BQcb"
      },
      "execution_count": null,
      "outputs": []
    }
  ]
}